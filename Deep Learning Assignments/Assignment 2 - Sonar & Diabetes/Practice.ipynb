{
 "cells": [
  {
   "cell_type": "code",
   "execution_count": 1,
   "metadata": {},
   "outputs": [],
   "source": [
    "import pandas as pd\n",
    "import numpy as np\n",
    "from sklearn.utils import shuffle\n",
    "from sklearn.preprocessing import LabelBinarizer, LabelEncoder\n",
    "import tensorflow as tf\n",
    "from tensorflow.keras import layers\n",
    "from tensorflow.keras import models"
   ]
  },
  {
   "cell_type": "code",
   "execution_count": 2,
   "metadata": {},
   "outputs": [],
   "source": [
    "# load data set\n",
    "# shuffle dataset\n",
    "# split training 70 validation 10 and test 20 %\n",
    "# split inputs and labels (output)\n",
    "# one hot coding\n",
    "# fit model without validation compare training and testing acuracies\n",
    "# fit mode with validation (with history)\n",
    "# create graph \n",
    "# adjust epoch pased on graph \n",
    "# check testing and training accuracies are matched or not\n",
    "# (chapter 3: Listing  3:17,3:18,3:19,3:20)"
   ]
  },
  {
   "cell_type": "code",
   "execution_count": 3,
   "metadata": {
    "scrolled": true
   },
   "outputs": [
    {
     "data": {
      "text/html": [
       "<div>\n",
       "<style scoped>\n",
       "    .dataframe tbody tr th:only-of-type {\n",
       "        vertical-align: middle;\n",
       "    }\n",
       "\n",
       "    .dataframe tbody tr th {\n",
       "        vertical-align: top;\n",
       "    }\n",
       "\n",
       "    .dataframe thead th {\n",
       "        text-align: right;\n",
       "    }\n",
       "</style>\n",
       "<table border=\"1\" class=\"dataframe\">\n",
       "  <thead>\n",
       "    <tr style=\"text-align: right;\">\n",
       "      <th></th>\n",
       "      <th>0</th>\n",
       "      <th>1</th>\n",
       "      <th>2</th>\n",
       "      <th>3</th>\n",
       "      <th>4</th>\n",
       "      <th>5</th>\n",
       "      <th>6</th>\n",
       "      <th>7</th>\n",
       "      <th>8</th>\n",
       "      <th>9</th>\n",
       "      <th>...</th>\n",
       "      <th>51</th>\n",
       "      <th>52</th>\n",
       "      <th>53</th>\n",
       "      <th>54</th>\n",
       "      <th>55</th>\n",
       "      <th>56</th>\n",
       "      <th>57</th>\n",
       "      <th>58</th>\n",
       "      <th>59</th>\n",
       "      <th>60</th>\n",
       "    </tr>\n",
       "  </thead>\n",
       "  <tbody>\n",
       "    <tr>\n",
       "      <th>0</th>\n",
       "      <td>0.0200</td>\n",
       "      <td>0.0371</td>\n",
       "      <td>0.0428</td>\n",
       "      <td>0.0207</td>\n",
       "      <td>0.0954</td>\n",
       "      <td>0.0986</td>\n",
       "      <td>0.1539</td>\n",
       "      <td>0.1601</td>\n",
       "      <td>0.3109</td>\n",
       "      <td>0.2111</td>\n",
       "      <td>...</td>\n",
       "      <td>0.0027</td>\n",
       "      <td>0.0065</td>\n",
       "      <td>0.0159</td>\n",
       "      <td>0.0072</td>\n",
       "      <td>0.0167</td>\n",
       "      <td>0.0180</td>\n",
       "      <td>0.0084</td>\n",
       "      <td>0.0090</td>\n",
       "      <td>0.0032</td>\n",
       "      <td>R</td>\n",
       "    </tr>\n",
       "    <tr>\n",
       "      <th>1</th>\n",
       "      <td>0.0453</td>\n",
       "      <td>0.0523</td>\n",
       "      <td>0.0843</td>\n",
       "      <td>0.0689</td>\n",
       "      <td>0.1183</td>\n",
       "      <td>0.2583</td>\n",
       "      <td>0.2156</td>\n",
       "      <td>0.3481</td>\n",
       "      <td>0.3337</td>\n",
       "      <td>0.2872</td>\n",
       "      <td>...</td>\n",
       "      <td>0.0084</td>\n",
       "      <td>0.0089</td>\n",
       "      <td>0.0048</td>\n",
       "      <td>0.0094</td>\n",
       "      <td>0.0191</td>\n",
       "      <td>0.0140</td>\n",
       "      <td>0.0049</td>\n",
       "      <td>0.0052</td>\n",
       "      <td>0.0044</td>\n",
       "      <td>R</td>\n",
       "    </tr>\n",
       "    <tr>\n",
       "      <th>2</th>\n",
       "      <td>0.0262</td>\n",
       "      <td>0.0582</td>\n",
       "      <td>0.1099</td>\n",
       "      <td>0.1083</td>\n",
       "      <td>0.0974</td>\n",
       "      <td>0.2280</td>\n",
       "      <td>0.2431</td>\n",
       "      <td>0.3771</td>\n",
       "      <td>0.5598</td>\n",
       "      <td>0.6194</td>\n",
       "      <td>...</td>\n",
       "      <td>0.0232</td>\n",
       "      <td>0.0166</td>\n",
       "      <td>0.0095</td>\n",
       "      <td>0.0180</td>\n",
       "      <td>0.0244</td>\n",
       "      <td>0.0316</td>\n",
       "      <td>0.0164</td>\n",
       "      <td>0.0095</td>\n",
       "      <td>0.0078</td>\n",
       "      <td>R</td>\n",
       "    </tr>\n",
       "    <tr>\n",
       "      <th>3</th>\n",
       "      <td>0.0100</td>\n",
       "      <td>0.0171</td>\n",
       "      <td>0.0623</td>\n",
       "      <td>0.0205</td>\n",
       "      <td>0.0205</td>\n",
       "      <td>0.0368</td>\n",
       "      <td>0.1098</td>\n",
       "      <td>0.1276</td>\n",
       "      <td>0.0598</td>\n",
       "      <td>0.1264</td>\n",
       "      <td>...</td>\n",
       "      <td>0.0121</td>\n",
       "      <td>0.0036</td>\n",
       "      <td>0.0150</td>\n",
       "      <td>0.0085</td>\n",
       "      <td>0.0073</td>\n",
       "      <td>0.0050</td>\n",
       "      <td>0.0044</td>\n",
       "      <td>0.0040</td>\n",
       "      <td>0.0117</td>\n",
       "      <td>R</td>\n",
       "    </tr>\n",
       "    <tr>\n",
       "      <th>4</th>\n",
       "      <td>0.0762</td>\n",
       "      <td>0.0666</td>\n",
       "      <td>0.0481</td>\n",
       "      <td>0.0394</td>\n",
       "      <td>0.0590</td>\n",
       "      <td>0.0649</td>\n",
       "      <td>0.1209</td>\n",
       "      <td>0.2467</td>\n",
       "      <td>0.3564</td>\n",
       "      <td>0.4459</td>\n",
       "      <td>...</td>\n",
       "      <td>0.0031</td>\n",
       "      <td>0.0054</td>\n",
       "      <td>0.0105</td>\n",
       "      <td>0.0110</td>\n",
       "      <td>0.0015</td>\n",
       "      <td>0.0072</td>\n",
       "      <td>0.0048</td>\n",
       "      <td>0.0107</td>\n",
       "      <td>0.0094</td>\n",
       "      <td>R</td>\n",
       "    </tr>\n",
       "  </tbody>\n",
       "</table>\n",
       "<p>5 rows × 61 columns</p>\n",
       "</div>"
      ],
      "text/plain": [
       "       0       1       2       3       4       5       6       7       8   \\\n",
       "0  0.0200  0.0371  0.0428  0.0207  0.0954  0.0986  0.1539  0.1601  0.3109   \n",
       "1  0.0453  0.0523  0.0843  0.0689  0.1183  0.2583  0.2156  0.3481  0.3337   \n",
       "2  0.0262  0.0582  0.1099  0.1083  0.0974  0.2280  0.2431  0.3771  0.5598   \n",
       "3  0.0100  0.0171  0.0623  0.0205  0.0205  0.0368  0.1098  0.1276  0.0598   \n",
       "4  0.0762  0.0666  0.0481  0.0394  0.0590  0.0649  0.1209  0.2467  0.3564   \n",
       "\n",
       "       9   ...      51      52      53      54      55      56      57  \\\n",
       "0  0.2111  ...  0.0027  0.0065  0.0159  0.0072  0.0167  0.0180  0.0084   \n",
       "1  0.2872  ...  0.0084  0.0089  0.0048  0.0094  0.0191  0.0140  0.0049   \n",
       "2  0.6194  ...  0.0232  0.0166  0.0095  0.0180  0.0244  0.0316  0.0164   \n",
       "3  0.1264  ...  0.0121  0.0036  0.0150  0.0085  0.0073  0.0050  0.0044   \n",
       "4  0.4459  ...  0.0031  0.0054  0.0105  0.0110  0.0015  0.0072  0.0048   \n",
       "\n",
       "       58      59  60  \n",
       "0  0.0090  0.0032   R  \n",
       "1  0.0052  0.0044   R  \n",
       "2  0.0095  0.0078   R  \n",
       "3  0.0040  0.0117   R  \n",
       "4  0.0107  0.0094   R  \n",
       "\n",
       "[5 rows x 61 columns]"
      ]
     },
     "execution_count": 3,
     "metadata": {},
     "output_type": "execute_result"
    }
   ],
   "source": [
    "dataset = pd.read_csv('sonar.csv', header=None)\n",
    "dataset.head()"
   ]
  },
  {
   "cell_type": "code",
   "execution_count": 4,
   "metadata": {},
   "outputs": [],
   "source": [
    "\n",
    "dataset=shuffle(dataset)\n",
    "dataset = np.array(dataset)"
   ]
  },
  {
   "cell_type": "code",
   "execution_count": 82,
   "metadata": {},
   "outputs": [
    {
     "data": {
      "text/plain": [
       "array([[0.0131, 0.0387, 0.0329, ..., 0.0009, 0.0015, 0.0085],\n",
       "       [0.031 , 0.0221, 0.0433, ..., 0.0056, 0.0067, 0.0054],\n",
       "       [0.027 , 0.0092, 0.0145, ..., 0.0132, 0.007 , 0.0088],\n",
       "       ...,\n",
       "       [0.115 , 0.1163, 0.0866, ..., 0.0141, 0.0068, 0.0086],\n",
       "       [0.0162, 0.0253, 0.0262, ..., 0.01  , 0.0048, 0.0019],\n",
       "       [0.013 , 0.012 , 0.0436, ..., 0.0009, 0.0033, 0.0026]])"
      ]
     },
     "execution_count": 82,
     "metadata": {},
     "output_type": "execute_result"
    }
   ],
   "source": [
    "train_d = dataset[:145,:60].astype('float')\n",
    "train_l = dataset[:145,60:61]\n",
    "\n",
    "train_v = dataset[146:165,:60].astype('float')\n",
    "train_v_l= dataset[146:165,60:61]\n",
    "\n",
    "test_d  = dataset[166:,:60].astype('float')\n",
    "test_l = dataset[166:,60:61]\n",
    "test_d"
   ]
  },
  {
   "cell_type": "code",
   "execution_count": 40,
   "metadata": {},
   "outputs": [
    {
     "data": {
      "text/plain": [
       "array([[0.0443, 0.0446, 0.0235, ..., 0.0115, 0.0152, 0.01  ],\n",
       "       [0.0188, 0.037 , 0.0953, ..., 0.0057, 0.0068, 0.0024],\n",
       "       [0.0131, 0.0068, 0.0308, ..., 0.0013, 0.0052, 0.0023],\n",
       "       ...,\n",
       "       [0.0239, 0.0189, 0.0466, ..., 0.0026, 0.0036, 0.0024],\n",
       "       [0.0378, 0.0318, 0.0423, ..., 0.0062, 0.0043, 0.0053],\n",
       "       [0.0283, 0.0599, 0.0656, ..., 0.0033, 0.0045, 0.0079]])"
      ]
     },
     "execution_count": 40,
     "metadata": {},
     "output_type": "execute_result"
    }
   ],
   "source": [
    "train_d"
   ]
  },
  {
   "cell_type": "code",
   "execution_count": 83,
   "metadata": {},
   "outputs": [
    {
     "name": "stderr",
     "output_type": "stream",
     "text": [
      "C:\\Users\\tehse\\Anaconda3\\lib\\site-packages\\sklearn\\preprocessing\\label.py:219: DataConversionWarning: A column-vector y was passed when a 1d array was expected. Please change the shape of y to (n_samples, ), for example using ravel().\n",
      "  y = column_or_1d(y, warn=True)\n",
      "C:\\Users\\tehse\\Anaconda3\\lib\\site-packages\\sklearn\\preprocessing\\label.py:252: DataConversionWarning: A column-vector y was passed when a 1d array was expected. Please change the shape of y to (n_samples, ), for example using ravel().\n",
      "  y = column_or_1d(y, warn=True)\n"
     ]
    }
   ],
   "source": [
    "\n",
    "\n",
    "encoder = LabelEncoder()\n",
    "encoder.fit(dataset[:,60:61])\n",
    "\n",
    "y_train = encoder.transform(train_l)\n",
    "y_train_v = encoder.transform(train_v_l)\n",
    "y_test = encoder.transform(test_l)\n",
    "\n"
   ]
  },
  {
   "cell_type": "code",
   "execution_count": 129,
   "metadata": {},
   "outputs": [],
   "source": [
    "epoch = 143\n",
    "model = models.Sequential()\n",
    "model.add(layers.Dense(32, activation='relu', input_shape=(60,)))\n",
    "model.add(layers.Dense(16, activation='relu'))\n",
    "model.add(layers.Dense(1, activation='sigmoid'))"
   ]
  },
  {
   "cell_type": "code",
   "execution_count": 130,
   "metadata": {},
   "outputs": [],
   "source": [
    "model.compile(optimizer = 'rmsprop' ,loss='binary_crossentropy',metrics=['accuracy'])"
   ]
  },
  {
   "cell_type": "code",
   "execution_count": 131,
   "metadata": {},
   "outputs": [
    {
     "name": "stdout",
     "output_type": "stream",
     "text": [
      "Train on 145 samples\n",
      "Epoch 1/143\n",
      "145/145 [==============================] - 1s 4ms/sample - loss: 0.6786 - accuracy: 0.5793\n",
      "Epoch 2/143\n",
      "145/145 [==============================] - 0s 200us/sample - loss: 0.6526 - accuracy: 0.7586\n",
      "Epoch 3/143\n",
      "145/145 [==============================] - 0s 200us/sample - loss: 0.6418 - accuracy: 0.7103\n",
      "Epoch 4/143\n",
      "145/145 [==============================] - 0s 227us/sample - loss: 0.6253 - accuracy: 0.7586\n",
      "Epoch 5/143\n",
      "145/145 [==============================] - 0s 186us/sample - loss: 0.6244 - accuracy: 0.7172\n",
      "Epoch 6/143\n",
      "145/145 [==============================] - 0s 179us/sample - loss: 0.6079 - accuracy: 0.7586\n",
      "Epoch 7/143\n",
      "145/145 [==============================] - 0s 262us/sample - loss: 0.5975 - accuracy: 0.7310\n",
      "Epoch 8/143\n",
      "145/145 [==============================] - 0s 248us/sample - loss: 0.5897 - accuracy: 0.7310\n",
      "Epoch 9/143\n",
      "145/145 [==============================] - 0s 193us/sample - loss: 0.5801 - accuracy: 0.7517\n",
      "Epoch 10/143\n",
      "145/145 [==============================] - 0s 186us/sample - loss: 0.5676 - accuracy: 0.7862\n",
      "Epoch 11/143\n",
      "145/145 [==============================] - 0s 172us/sample - loss: 0.5622 - accuracy: 0.7862\n",
      "Epoch 12/143\n",
      "145/145 [==============================] - 0s 241us/sample - loss: 0.5492 - accuracy: 0.7862\n",
      "Epoch 13/143\n",
      "145/145 [==============================] - 0s 262us/sample - loss: 0.5488 - accuracy: 0.7862\n",
      "Epoch 14/143\n",
      "145/145 [==============================] - 0s 248us/sample - loss: 0.5322 - accuracy: 0.8000\n",
      "Epoch 15/143\n",
      "145/145 [==============================] - 0s 221us/sample - loss: 0.5181 - accuracy: 0.8138\n",
      "Epoch 16/143\n",
      "145/145 [==============================] - 0s 186us/sample - loss: 0.5073 - accuracy: 0.8069\n",
      "Epoch 17/143\n",
      "145/145 [==============================] - 0s 193us/sample - loss: 0.5077 - accuracy: 0.8000\n",
      "Epoch 18/143\n",
      "145/145 [==============================] - 0s 221us/sample - loss: 0.4935 - accuracy: 0.8207\n",
      "Epoch 19/143\n",
      "145/145 [==============================] - 0s 276us/sample - loss: 0.4854 - accuracy: 0.7862\n",
      "Epoch 20/143\n",
      "145/145 [==============================] - 0s 221us/sample - loss: 0.4845 - accuracy: 0.8138\n",
      "Epoch 21/143\n",
      "145/145 [==============================] - 0s 200us/sample - loss: 0.4695 - accuracy: 0.8069\n",
      "Epoch 22/143\n",
      "145/145 [==============================] - 0s 179us/sample - loss: 0.4628 - accuracy: 0.8414\n",
      "Epoch 23/143\n",
      "145/145 [==============================] - 0s 227us/sample - loss: 0.4574 - accuracy: 0.8138\n",
      "Epoch 24/143\n",
      "145/145 [==============================] - 0s 227us/sample - loss: 0.4484 - accuracy: 0.8345\n",
      "Epoch 25/143\n",
      "145/145 [==============================] - 0s 227us/sample - loss: 0.4457 - accuracy: 0.8000\n",
      "Epoch 26/143\n",
      "145/145 [==============================] - 0s 207us/sample - loss: 0.4377 - accuracy: 0.8207\n",
      "Epoch 27/143\n",
      "145/145 [==============================] - 0s 179us/sample - loss: 0.4326 - accuracy: 0.8276\n",
      "Epoch 28/143\n",
      "145/145 [==============================] - 0s 200us/sample - loss: 0.4291 - accuracy: 0.8276\n",
      "Epoch 29/143\n",
      "145/145 [==============================] - 0s 214us/sample - loss: 0.4192 - accuracy: 0.8276\n",
      "Epoch 30/143\n",
      "145/145 [==============================] - 0s 262us/sample - loss: 0.4094 - accuracy: 0.8483\n",
      "Epoch 31/143\n",
      "145/145 [==============================] - 0s 241us/sample - loss: 0.4016 - accuracy: 0.8552\n",
      "Epoch 32/143\n",
      "145/145 [==============================] - 0s 214us/sample - loss: 0.4013 - accuracy: 0.8759\n",
      "Epoch 33/143\n",
      "145/145 [==============================] - 0s 207us/sample - loss: 0.3948 - accuracy: 0.8276\n",
      "Epoch 34/143\n",
      "145/145 [==============================] - 0s 214us/sample - loss: 0.3858 - accuracy: 0.8483\n",
      "Epoch 35/143\n",
      "145/145 [==============================] - 0s 221us/sample - loss: 0.3835 - accuracy: 0.8759\n",
      "Epoch 36/143\n",
      "145/145 [==============================] - 0s 248us/sample - loss: 0.3791 - accuracy: 0.8759\n",
      "Epoch 37/143\n",
      "145/145 [==============================] - 0s 227us/sample - loss: 0.3819 - accuracy: 0.8552\n",
      "Epoch 38/143\n",
      "145/145 [==============================] - 0s 227us/sample - loss: 0.3744 - accuracy: 0.8276\n",
      "Epoch 39/143\n",
      "145/145 [==============================] - 0s 207us/sample - loss: 0.3711 - accuracy: 0.8414\n",
      "Epoch 40/143\n",
      "145/145 [==============================] - 0s 214us/sample - loss: 0.3680 - accuracy: 0.8414\n",
      "Epoch 41/143\n",
      "145/145 [==============================] - 0s 214us/sample - loss: 0.3567 - accuracy: 0.8690\n",
      "Epoch 42/143\n",
      "145/145 [==============================] - 0s 214us/sample - loss: 0.3770 - accuracy: 0.8207\n",
      "Epoch 43/143\n",
      "145/145 [==============================] - 0s 221us/sample - loss: 0.3558 - accuracy: 0.8621\n",
      "Epoch 44/143\n",
      "145/145 [==============================] - 0s 214us/sample - loss: 0.3499 - accuracy: 0.8276\n",
      "Epoch 45/143\n",
      "145/145 [==============================] - 0s 241us/sample - loss: 0.3625 - accuracy: 0.8690\n",
      "Epoch 46/143\n",
      "145/145 [==============================] - 0s 207us/sample - loss: 0.3438 - accuracy: 0.8552\n",
      "Epoch 47/143\n",
      "145/145 [==============================] - 0s 248us/sample - loss: 0.3450 - accuracy: 0.8414\n",
      "Epoch 48/143\n",
      "145/145 [==============================] - 0s 234us/sample - loss: 0.3407 - accuracy: 0.8483\n",
      "Epoch 49/143\n",
      "145/145 [==============================] - 0s 221us/sample - loss: 0.3362 - accuracy: 0.8483\n",
      "Epoch 50/143\n",
      "145/145 [==============================] - 0s 227us/sample - loss: 0.3497 - accuracy: 0.8414\n",
      "Epoch 51/143\n",
      "145/145 [==============================] - 0s 227us/sample - loss: 0.3265 - accuracy: 0.8621\n",
      "Epoch 52/143\n",
      "145/145 [==============================] - 0s 227us/sample - loss: 0.3370 - accuracy: 0.8690\n",
      "Epoch 53/143\n",
      "145/145 [==============================] - 0s 234us/sample - loss: 0.3188 - accuracy: 0.8897\n",
      "Epoch 54/143\n",
      "145/145 [==============================] - 0s 172us/sample - loss: 0.3257 - accuracy: 0.8828\n",
      "Epoch 55/143\n",
      "145/145 [==============================] - 0s 227us/sample - loss: 0.3125 - accuracy: 0.8759\n",
      "Epoch 56/143\n",
      "145/145 [==============================] - 0s 186us/sample - loss: 0.3438 - accuracy: 0.8621\n",
      "Epoch 57/143\n",
      "145/145 [==============================] - 0s 200us/sample - loss: 0.3120 - accuracy: 0.8966\n",
      "Epoch 58/143\n",
      "145/145 [==============================] - 0s 207us/sample - loss: 0.3111 - accuracy: 0.8828\n",
      "Epoch 59/143\n",
      "145/145 [==============================] - 0s 193us/sample - loss: 0.3077 - accuracy: 0.9034\n",
      "Epoch 60/143\n",
      "145/145 [==============================] - 0s 207us/sample - loss: 0.3089 - accuracy: 0.8621\n",
      "Epoch 61/143\n",
      "145/145 [==============================] - 0s 221us/sample - loss: 0.3017 - accuracy: 0.8828\n",
      "Epoch 62/143\n",
      "145/145 [==============================] - 0s 207us/sample - loss: 0.2999 - accuracy: 0.8690\n",
      "Epoch 63/143\n",
      "145/145 [==============================] - 0s 234us/sample - loss: 0.3145 - accuracy: 0.8828\n",
      "Epoch 64/143\n",
      "145/145 [==============================] - 0s 207us/sample - loss: 0.3125 - accuracy: 0.8552\n",
      "Epoch 65/143\n",
      "145/145 [==============================] - 0s 200us/sample - loss: 0.3082 - accuracy: 0.8759\n",
      "Epoch 66/143\n",
      "145/145 [==============================] - 0s 193us/sample - loss: 0.3033 - accuracy: 0.8966\n",
      "Epoch 67/143\n",
      "145/145 [==============================] - 0s 207us/sample - loss: 0.2904 - accuracy: 0.8828\n",
      "Epoch 68/143\n",
      "145/145 [==============================] - 0s 193us/sample - loss: 0.2969 - accuracy: 0.8690\n",
      "Epoch 69/143\n",
      "145/145 [==============================] - 0s 200us/sample - loss: 0.2878 - accuracy: 0.8828\n",
      "Epoch 70/143\n",
      "145/145 [==============================] - 0s 172us/sample - loss: 0.2883 - accuracy: 0.8828\n",
      "Epoch 71/143\n",
      "145/145 [==============================] - 0s 207us/sample - loss: 0.2878 - accuracy: 0.8690\n",
      "Epoch 72/143\n",
      "145/145 [==============================] - 0s 186us/sample - loss: 0.2842 - accuracy: 0.8759\n",
      "Epoch 73/143\n",
      "145/145 [==============================] - 0s 172us/sample - loss: 0.2743 - accuracy: 0.8897\n",
      "Epoch 74/143\n",
      "145/145 [==============================] - 0s 193us/sample - loss: 0.2924 - accuracy: 0.8828\n",
      "Epoch 75/143\n",
      "145/145 [==============================] - 0s 200us/sample - loss: 0.2855 - accuracy: 0.8828\n",
      "Epoch 76/143\n",
      "145/145 [==============================] - 0s 186us/sample - loss: 0.2719 - accuracy: 0.8897\n",
      "Epoch 77/143\n",
      "145/145 [==============================] - 0s 172us/sample - loss: 0.2812 - accuracy: 0.8897\n",
      "Epoch 78/143\n"
     ]
    },
    {
     "name": "stdout",
     "output_type": "stream",
     "text": [
      "145/145 [==============================] - 0s 193us/sample - loss: 0.2686 - accuracy: 0.9103\n",
      "Epoch 79/143\n",
      "145/145 [==============================] - 0s 200us/sample - loss: 0.2723 - accuracy: 0.8828\n",
      "Epoch 80/143\n",
      "145/145 [==============================] - 0s 193us/sample - loss: 0.2871 - accuracy: 0.8552\n",
      "Epoch 81/143\n",
      "145/145 [==============================] - 0s 193us/sample - loss: 0.2719 - accuracy: 0.8690\n",
      "Epoch 82/143\n",
      "145/145 [==============================] - 0s 221us/sample - loss: 0.2620 - accuracy: 0.9034\n",
      "Epoch 83/143\n",
      "145/145 [==============================] - 0s 214us/sample - loss: 0.2608 - accuracy: 0.9034\n",
      "Epoch 84/143\n",
      "145/145 [==============================] - 0s 221us/sample - loss: 0.2812 - accuracy: 0.8828\n",
      "Epoch 85/143\n",
      "145/145 [==============================] - 0s 234us/sample - loss: 0.2673 - accuracy: 0.8759\n",
      "Epoch 86/143\n",
      "145/145 [==============================] - 0s 227us/sample - loss: 0.2538 - accuracy: 0.9172\n",
      "Epoch 87/143\n",
      "145/145 [==============================] - 0s 241us/sample - loss: 0.2502 - accuracy: 0.8897\n",
      "Epoch 88/143\n",
      "145/145 [==============================] - 0s 241us/sample - loss: 0.2495 - accuracy: 0.9172\n",
      "Epoch 89/143\n",
      "145/145 [==============================] - 0s 214us/sample - loss: 0.2787 - accuracy: 0.8897\n",
      "Epoch 90/143\n",
      "145/145 [==============================] - 0s 214us/sample - loss: 0.2458 - accuracy: 0.8897\n",
      "Epoch 91/143\n",
      "145/145 [==============================] - 0s 221us/sample - loss: 0.2491 - accuracy: 0.9034\n",
      "Epoch 92/143\n",
      "145/145 [==============================] - 0s 214us/sample - loss: 0.2532 - accuracy: 0.8690\n",
      "Epoch 93/143\n",
      "145/145 [==============================] - 0s 214us/sample - loss: 0.2528 - accuracy: 0.9103\n",
      "Epoch 94/143\n",
      "145/145 [==============================] - 0s 248us/sample - loss: 0.2353 - accuracy: 0.9310\n",
      "Epoch 95/143\n",
      "145/145 [==============================] - 0s 503us/sample - loss: 0.2416 - accuracy: 0.9103\n",
      "Epoch 96/143\n",
      "145/145 [==============================] - 0s 241us/sample - loss: 0.2378 - accuracy: 0.9034\n",
      "Epoch 97/143\n",
      "145/145 [==============================] - 0s 227us/sample - loss: 0.2439 - accuracy: 0.9103\n",
      "Epoch 98/143\n",
      "145/145 [==============================] - 0s 227us/sample - loss: 0.2379 - accuracy: 0.9241\n",
      "Epoch 99/143\n",
      "145/145 [==============================] - 0s 193us/sample - loss: 0.2302 - accuracy: 0.9310\n",
      "Epoch 100/143\n",
      "145/145 [==============================] - 0s 172us/sample - loss: 0.2308 - accuracy: 0.9241\n",
      "Epoch 101/143\n",
      "145/145 [==============================] - 0s 200us/sample - loss: 0.2502 - accuracy: 0.8828\n",
      "Epoch 102/143\n",
      "145/145 [==============================] - 0s 193us/sample - loss: 0.2347 - accuracy: 0.9103\n",
      "Epoch 103/143\n",
      "145/145 [==============================] - 0s 200us/sample - loss: 0.2229 - accuracy: 0.9379\n",
      "Epoch 104/143\n",
      "145/145 [==============================] - 0s 221us/sample - loss: 0.2252 - accuracy: 0.9241\n",
      "Epoch 105/143\n",
      "145/145 [==============================] - 0s 221us/sample - loss: 0.2294 - accuracy: 0.9172\n",
      "Epoch 106/143\n",
      "145/145 [==============================] - 0s 214us/sample - loss: 0.2271 - accuracy: 0.9241\n",
      "Epoch 107/143\n",
      "145/145 [==============================] - 0s 234us/sample - loss: 0.2390 - accuracy: 0.9310\n",
      "Epoch 108/143\n",
      "145/145 [==============================] - 0s 227us/sample - loss: 0.2146 - accuracy: 0.9448\n",
      "Epoch 109/143\n",
      "145/145 [==============================] - 0s 221us/sample - loss: 0.2070 - accuracy: 0.9172\n",
      "Epoch 110/143\n",
      "145/145 [==============================] - 0s 234us/sample - loss: 0.2189 - accuracy: 0.9034\n",
      "Epoch 111/143\n",
      "145/145 [==============================] - 0s 227us/sample - loss: 0.2241 - accuracy: 0.9172\n",
      "Epoch 112/143\n",
      "145/145 [==============================] - 0s 234us/sample - loss: 0.2132 - accuracy: 0.9241\n",
      "Epoch 113/143\n",
      "145/145 [==============================] - 0s 241us/sample - loss: 0.2265 - accuracy: 0.9034\n",
      "Epoch 114/143\n",
      "145/145 [==============================] - 0s 221us/sample - loss: 0.2104 - accuracy: 0.9379\n",
      "Epoch 115/143\n",
      "145/145 [==============================] - 0s 234us/sample - loss: 0.2026 - accuracy: 0.9379\n",
      "Epoch 116/143\n",
      "145/145 [==============================] - 0s 227us/sample - loss: 0.2227 - accuracy: 0.9103\n",
      "Epoch 117/143\n",
      "145/145 [==============================] - 0s 200us/sample - loss: 0.2148 - accuracy: 0.9103\n",
      "Epoch 118/143\n",
      "145/145 [==============================] - 0s 193us/sample - loss: 0.2040 - accuracy: 0.9241\n",
      "Epoch 119/143\n",
      "145/145 [==============================] - 0s 172us/sample - loss: 0.1973 - accuracy: 0.9448\n",
      "Epoch 120/143\n",
      "145/145 [==============================] - 0s 193us/sample - loss: 0.2086 - accuracy: 0.9310\n",
      "Epoch 121/143\n",
      "145/145 [==============================] - 0s 179us/sample - loss: 0.1899 - accuracy: 0.9379\n",
      "Epoch 122/143\n",
      "145/145 [==============================] - 0s 207us/sample - loss: 0.2038 - accuracy: 0.9310\n",
      "Epoch 123/143\n",
      "145/145 [==============================] - 0s 214us/sample - loss: 0.1895 - accuracy: 0.9586\n",
      "Epoch 124/143\n",
      "145/145 [==============================] - 0s 234us/sample - loss: 0.1884 - accuracy: 0.9448\n",
      "Epoch 125/143\n",
      "145/145 [==============================] - 0s 227us/sample - loss: 0.1981 - accuracy: 0.9310\n",
      "Epoch 126/143\n",
      "145/145 [==============================] - 0s 227us/sample - loss: 0.1925 - accuracy: 0.9517\n",
      "Epoch 127/143\n",
      "145/145 [==============================] - 0s 221us/sample - loss: 0.1822 - accuracy: 0.9379\n",
      "Epoch 128/143\n",
      "145/145 [==============================] - 0s 276us/sample - loss: 0.1959 - accuracy: 0.9241\n",
      "Epoch 129/143\n",
      "145/145 [==============================] - 0s 276us/sample - loss: 0.1930 - accuracy: 0.9172\n",
      "Epoch 130/143\n",
      "145/145 [==============================] - 0s 214us/sample - loss: 0.1890 - accuracy: 0.9241\n",
      "Epoch 131/143\n",
      "145/145 [==============================] - 0s 248us/sample - loss: 0.1740 - accuracy: 0.9448\n",
      "Epoch 132/143\n",
      "145/145 [==============================] - 0s 227us/sample - loss: 0.1755 - accuracy: 0.9379\n",
      "Epoch 133/143\n",
      "145/145 [==============================] - 0s 221us/sample - loss: 0.1922 - accuracy: 0.9103\n",
      "Epoch 134/143\n",
      "145/145 [==============================] - 0s 276us/sample - loss: 0.1696 - accuracy: 0.9586\n",
      "Epoch 135/143\n",
      "145/145 [==============================] - 0s 303us/sample - loss: 0.1944 - accuracy: 0.9172\n",
      "Epoch 136/143\n",
      "145/145 [==============================] - 0s 241us/sample - loss: 0.1644 - accuracy: 0.9586\n",
      "Epoch 137/143\n",
      "145/145 [==============================] - 0s 269us/sample - loss: 0.1726 - accuracy: 0.9379\n",
      "Epoch 138/143\n",
      "145/145 [==============================] - 0s 221us/sample - loss: 0.1708 - accuracy: 0.9448\n",
      "Epoch 139/143\n",
      "145/145 [==============================] - 0s 179us/sample - loss: 0.1772 - accuracy: 0.9379\n",
      "Epoch 140/143\n",
      "145/145 [==============================] - 0s 179us/sample - loss: 0.1714 - accuracy: 0.9448\n",
      "Epoch 141/143\n",
      "145/145 [==============================] - 0s 186us/sample - loss: 0.1640 - accuracy: 0.9517\n",
      "Epoch 142/143\n",
      "145/145 [==============================] - 0s 186us/sample - loss: 0.1581 - accuracy: 0.9517\n",
      "Epoch 143/143\n",
      "145/145 [==============================] - 0s 172us/sample - loss: 0.1725 - accuracy: 0.9379\n"
     ]
    }
   ],
   "source": [
    "history = model.fit(train_d,\n",
    "    y_train,\n",
    "    epochs=epoch,\n",
    "    batch_size=16)\n"
   ]
  },
  {
   "cell_type": "code",
   "execution_count": 132,
   "metadata": {},
   "outputs": [
    {
     "data": {
      "text/plain": [
       "dict_keys(['loss', 'accuracy'])"
      ]
     },
     "execution_count": 132,
     "metadata": {},
     "output_type": "execute_result"
    }
   ],
   "source": [
    "history_dict = history.history\n",
    "history_dict.keys()\n"
   ]
  },
  {
   "cell_type": "code",
   "execution_count": 141,
   "metadata": {},
   "outputs": [
    {
     "name": "stdout",
     "output_type": "stream",
     "text": [
      "Train on 145 samples, validate on 19 samples\n",
      "Epoch 1/23\n",
      "145/145 [==============================] - 0s 296us/sample - loss: 0.0076 - accuracy: 1.0000 - val_loss: 0.2722 - val_accuracy: 0.8947\n",
      "Epoch 2/23\n",
      "145/145 [==============================] - 0s 276us/sample - loss: 0.0145 - accuracy: 1.0000 - val_loss: 0.0283 - val_accuracy: 1.0000\n",
      "Epoch 3/23\n",
      "145/145 [==============================] - 0s 262us/sample - loss: 0.0065 - accuracy: 1.0000 - val_loss: 0.2628 - val_accuracy: 0.8947\n",
      "Epoch 4/23\n",
      "145/145 [==============================] - 0s 296us/sample - loss: 0.0105 - accuracy: 1.0000 - val_loss: 0.0738 - val_accuracy: 0.9474\n",
      "Epoch 5/23\n",
      "145/145 [==============================] - 0s 255us/sample - loss: 0.0085 - accuracy: 1.0000 - val_loss: 0.1728 - val_accuracy: 0.8947\n",
      "Epoch 6/23\n",
      "145/145 [==============================] - 0s 269us/sample - loss: 0.0102 - accuracy: 1.0000 - val_loss: 0.0089 - val_accuracy: 1.0000\n",
      "Epoch 7/23\n",
      "145/145 [==============================] - 0s 276us/sample - loss: 0.0075 - accuracy: 1.0000 - val_loss: 0.0153 - val_accuracy: 1.0000\n",
      "Epoch 8/23\n",
      "145/145 [==============================] - 0s 269us/sample - loss: 0.0070 - accuracy: 1.0000 - val_loss: 0.0144 - val_accuracy: 1.0000\n",
      "Epoch 9/23\n",
      "145/145 [==============================] - 0s 283us/sample - loss: 0.0078 - accuracy: 1.0000 - val_loss: 0.2144 - val_accuracy: 0.8947\n",
      "Epoch 10/23\n",
      "145/145 [==============================] - 0s 248us/sample - loss: 0.0077 - accuracy: 1.0000 - val_loss: 0.0286 - val_accuracy: 1.0000\n",
      "Epoch 11/23\n",
      "145/145 [==============================] - 0s 283us/sample - loss: 0.0073 - accuracy: 1.0000 - val_loss: 0.0151 - val_accuracy: 1.0000\n",
      "Epoch 12/23\n",
      "145/145 [==============================] - 0s 276us/sample - loss: 0.0130 - accuracy: 1.0000 - val_loss: 0.0096 - val_accuracy: 1.0000\n",
      "Epoch 13/23\n",
      "145/145 [==============================] - 0s 276us/sample - loss: 0.0052 - accuracy: 1.0000 - val_loss: 0.1222 - val_accuracy: 0.8947\n",
      "Epoch 14/23\n",
      "145/145 [==============================] - 0s 358us/sample - loss: 0.0087 - accuracy: 1.0000 - val_loss: 0.0448 - val_accuracy: 1.0000\n",
      "Epoch 15/23\n",
      "145/145 [==============================] - 0s 331us/sample - loss: 0.0065 - accuracy: 1.0000 - val_loss: 0.1476 - val_accuracy: 0.8947\n",
      "Epoch 16/23\n",
      "145/145 [==============================] - 0s 296us/sample - loss: 0.0059 - accuracy: 1.0000 - val_loss: 0.1174 - val_accuracy: 0.8947\n",
      "Epoch 17/23\n",
      "145/145 [==============================] - 0s 289us/sample - loss: 0.0074 - accuracy: 1.0000 - val_loss: 0.0234 - val_accuracy: 1.0000\n",
      "Epoch 18/23\n",
      "145/145 [==============================] - 0s 255us/sample - loss: 0.0082 - accuracy: 1.0000 - val_loss: 0.0368 - val_accuracy: 1.0000\n",
      "Epoch 19/23\n",
      "145/145 [==============================] - 0s 283us/sample - loss: 0.0050 - accuracy: 1.0000 - val_loss: 0.2787 - val_accuracy: 0.8947\n",
      "Epoch 20/23\n",
      "145/145 [==============================] - 0s 303us/sample - loss: 0.0122 - accuracy: 0.9931 - val_loss: 0.0395 - val_accuracy: 1.0000\n",
      "Epoch 21/23\n",
      "145/145 [==============================] - 0s 317us/sample - loss: 0.0049 - accuracy: 1.0000 - val_loss: 0.0956 - val_accuracy: 0.8947\n",
      "Epoch 22/23\n",
      "145/145 [==============================] - 0s 338us/sample - loss: 0.0054 - accuracy: 1.0000 - val_loss: 0.0106 - val_accuracy: 1.0000\n",
      "Epoch 23/23\n",
      "145/145 [==============================] - 0s 345us/sample - loss: 0.0098 - accuracy: 1.0000 - val_loss: 0.0286 - val_accuracy: 1.0000\n"
     ]
    }
   ],
   "source": [
    "history_validation = model.fit(train_d,\n",
    "    y_train,\n",
    "    epochs=23,\n",
    "    batch_size=16,\n",
    "    validation_data=(train_v, y_train_v))\n"
   ]
  },
  {
   "cell_type": "code",
   "execution_count": 134,
   "metadata": {},
   "outputs": [
    {
     "data": {
      "text/plain": [
       "dict_keys(['loss', 'accuracy'])"
      ]
     },
     "execution_count": 134,
     "metadata": {},
     "output_type": "execute_result"
    }
   ],
   "source": [
    "history_dict_v = history.history\n",
    "history_dict.keys()\n"
   ]
  },
  {
   "cell_type": "code",
   "execution_count": 135,
   "metadata": {},
   "outputs": [
    {
     "data": {
      "image/png": "[encoded data removed]",
      "text/plain": [
       "<Figure size 432x288 with 1 Axes>"
      ]
     },
     "metadata": {
      "needs_background": "light"
     },
     "output_type": "display_data"
    }
   ],
   "source": [
    "import matplotlib.pyplot as plt\n",
    "loss = history_dict['loss']\n",
    "accuracy = history_dict['accuracy']\n",
    "plt.plot(loss,accuracy, label='Training loss')\n",
    "plt.title('Actual Training  loss')\n",
    "plt.xlabel('Loss')\n",
    "plt.ylabel('accuracy')\n",
    "plt.legend()\n",
    "\n",
    "plt.show()"
   ]
  },
  {
   "cell_type": "code",
   "execution_count": 136,
   "metadata": {},
   "outputs": [
    {
     "data": {
      "image/png": "[encoded data removed]",
      "text/plain": [
       "<Figure size 432x288 with 1 Axes>"
      ]
     },
     "metadata": {
      "needs_background": "light"
     },
     "output_type": "display_data"
    }
   ],
   "source": [
    "\n",
    "loss = history_dict['loss']\n",
    "epochs = range(1, len(accuracy) + 1)\n",
    "accuracy = history_dict['accuracy']\n",
    "plt.plot(epochs,accuracy, label='Training loss')\n",
    "plt.title('Actual Epoch and Accuracy')\n",
    "plt.xlabel('epochs')\n",
    "plt.ylabel('Accuracy')\n",
    "plt.legend()\n",
    "\n",
    "plt.show()"
   ]
  },
  {
   "cell_type": "code",
   "execution_count": 137,
   "metadata": {},
   "outputs": [
    {
     "data": {
      "image/png": "[encoded data removed]",
      "text/plain": [
       "<Figure size 432x288 with 1 Axes>"
      ]
     },
     "metadata": {
      "needs_background": "light"
     },
     "output_type": "display_data"
    }
   ],
   "source": [
    "loss = history_dict_v['loss']\n",
    "accuracy = history_dict_v['accuracy']\n",
    "plt.plot(loss,accuracy, label='Training loss')\n",
    "plt.title('Validated Training  loss')\n",
    "plt.xlabel('Loss')\n",
    "plt.ylabel('accuracy')\n",
    "plt.legend()\n",
    "\n",
    "plt.show()"
   ]
  },
  {
   "cell_type": "code",
   "execution_count": 138,
   "metadata": {},
   "outputs": [
    {
     "data": {
      "image/png": "[encoded data removed]",
      "text/plain": [
       "<Figure size 432x288 with 1 Axes>"
      ]
     },
     "metadata": {
      "needs_background": "light"
     },
     "output_type": "display_data"
    }
   ],
   "source": [
    "loss = history_dict_v['loss']\n",
    "epochs = range(1, len(accuracy) + 1)\n",
    "accuracy = history_dict_v['accuracy']\n",
    "plt.plot(epochs,accuracy, label='Training loss')\n",
    "plt.title('Validated Epoch and Accuracy')\n",
    "plt.xlabel('epochs')\n",
    "plt.ylabel('Accuracy')\n",
    "plt.legend()\n",
    "\n",
    "plt.show()"
   ]
  },
  {
   "cell_type": "code",
   "execution_count": 139,
   "metadata": {},
   "outputs": [
    {
     "name": "stdout",
     "output_type": "stream",
     "text": [
      "42/42 [==============================] - 0s 143us/sample - loss: 1.6693 - accuracy: 0.6905\n"
     ]
    }
   ],
   "source": [
    "results = model.evaluate(test_d, y_test)"
   ]
  },
  {
   "cell_type": "code",
   "execution_count": null,
   "metadata": {},
   "outputs": [],
   "source": []
  },
  {
   "cell_type": "code",
   "execution_count": null,
   "metadata": {},
   "outputs": [],
   "source": []
  },
  {
   "cell_type": "code",
   "execution_count": null,
   "metadata": {},
   "outputs": [],
   "source": []
  }
 ],
 "metadata": {
  "kernelspec": {
   "display_name": "Python 3",
   "language": "python",
   "name": "python3"
  },
  "language_info": {
   "codemirror_mode": {
    "name": "ipython",
    "version": 3
   },
   "file_extension": ".py",
   "mimetype": "text/x-python",
   "name": "python",
   "nbconvert_exporter": "python",
   "pygments_lexer": "ipython3",
   "version": "3.7.3"
  }
 },
 "nbformat": 4,
 "nbformat_minor": 2
}
