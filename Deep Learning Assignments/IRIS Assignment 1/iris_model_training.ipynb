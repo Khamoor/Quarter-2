{
 "cells": [
  {
   "cell_type": "markdown",
   "metadata": {
    "colab_type": "text",
    "id": "XPbKEBo7THEW"
   },
   "source": [
    "# **ASSIGNMENT : IRIS MULTI-CLASS CLASSIFICATION**\n",
    "\n",
    "###### **Purpose :**\n",
    "To predict the species of flower .\n",
    "###### **Description :**\n",
    "The dataset contains a set of 150 records under 5 attributes - Petal Length, Petal Width, Sepal Length, Sepal width and Class(Species).\n",
    "###### **Requirements :**\n",
    "1) Code must be in tf 2.0 .\n",
    "\n",
    "2) Accuracy must be in between 95-97% .\n",
    "\n",
    "3) Model shouldn't be Overfit (You can add drop out layer for this) ."
   ]
  },
  {
   "cell_type": "markdown",
   "metadata": {
    "colab_type": "text",
    "id": "olhHTsGBTUhm"
   },
   "source": [
    "### **STEP 1 : Load all the necessary libraries**"
   ]
  },
  {
   "cell_type": "code",
   "execution_count": 1,
   "metadata": {
    "colab": {},
    "colab_type": "code",
    "id": "Uc3xuEm6UZ5j"
   },
   "outputs": [],
   "source": [
    "import tensorflow as tf\n",
    "from tensorflow.keras import models\n",
    "from tensorflow.keras import layers\n",
    "from tensorflow.keras.utils import to_categorical\n",
    "from sklearn.preprocessing import LabelEncoder\n",
    "import pandas as pd\n",
    "import matplotlib.pyplot as plt"
   ]
  },
  {
   "cell_type": "markdown",
   "metadata": {
    "colab_type": "text",
    "id": "H6UKL7A5TeRe"
   },
   "source": [
    "### **STEP 2 : Data Preparation**\n",
    "This step consists of multiple sub steps from data loading [download](https://github.com/ramsha275/PIAIC-Sir-Anees-Quarter-2/blob/master/Deep%20Learning/iris.csv),shuffling ,spliting in **Train** and **Test** sets to one-hot-enconding on labels . \n"
   ]
  },
  {
   "cell_type": "code",
   "execution_count": 2,
   "metadata": {
    "colab": {
     "base_uri": "https://localhost:8080/",
     "height": 255
    },
    "colab_type": "code",
    "id": "YULiAbcxTgwP",
    "outputId": "63f77606-b190-40c7-ef16-228319d3c1d7"
   },
   "outputs": [
    {
     "data": {
      "text/html": [
       "<div>\n",
       "<style scoped>\n",
       "    .dataframe tbody tr th:only-of-type {\n",
       "        vertical-align: middle;\n",
       "    }\n",
       "\n",
       "    .dataframe tbody tr th {\n",
       "        vertical-align: top;\n",
       "    }\n",
       "\n",
       "    .dataframe thead th {\n",
       "        text-align: right;\n",
       "    }\n",
       "</style>\n",
       "<table border=\"1\" class=\"dataframe\">\n",
       "  <thead>\n",
       "    <tr style=\"text-align: right;\">\n",
       "      <th></th>\n",
       "      <th>sepal.length</th>\n",
       "      <th>sepal.width</th>\n",
       "      <th>petal.length</th>\n",
       "      <th>petal.width</th>\n",
       "      <th>variety</th>\n",
       "    </tr>\n",
       "  </thead>\n",
       "  <tbody>\n",
       "    <tr>\n",
       "      <th>0</th>\n",
       "      <td>5.1</td>\n",
       "      <td>3.5</td>\n",
       "      <td>1.4</td>\n",
       "      <td>0.2</td>\n",
       "      <td>Setosa</td>\n",
       "    </tr>\n",
       "    <tr>\n",
       "      <th>1</th>\n",
       "      <td>4.9</td>\n",
       "      <td>3.0</td>\n",
       "      <td>1.4</td>\n",
       "      <td>0.2</td>\n",
       "      <td>Setosa</td>\n",
       "    </tr>\n",
       "    <tr>\n",
       "      <th>2</th>\n",
       "      <td>4.7</td>\n",
       "      <td>3.2</td>\n",
       "      <td>1.3</td>\n",
       "      <td>0.2</td>\n",
       "      <td>Setosa</td>\n",
       "    </tr>\n",
       "    <tr>\n",
       "      <th>3</th>\n",
       "      <td>4.6</td>\n",
       "      <td>3.1</td>\n",
       "      <td>1.5</td>\n",
       "      <td>0.2</td>\n",
       "      <td>Setosa</td>\n",
       "    </tr>\n",
       "    <tr>\n",
       "      <th>4</th>\n",
       "      <td>5.0</td>\n",
       "      <td>3.6</td>\n",
       "      <td>1.4</td>\n",
       "      <td>0.2</td>\n",
       "      <td>Setosa</td>\n",
       "    </tr>\n",
       "  </tbody>\n",
       "</table>\n",
       "</div>"
      ],
      "text/plain": [
       "   sepal.length  sepal.width  petal.length  petal.width variety\n",
       "0           5.1          3.5           1.4          0.2  Setosa\n",
       "1           4.9          3.0           1.4          0.2  Setosa\n",
       "2           4.7          3.2           1.3          0.2  Setosa\n",
       "3           4.6          3.1           1.5          0.2  Setosa\n",
       "4           5.0          3.6           1.4          0.2  Setosa"
      ]
     },
     "metadata": {},
     "output_type": "display_data"
    },
    {
     "name": "stdout",
     "output_type": "stream",
     "text": [
      "Size: 750\n",
      "Shape: (150, 5)\n",
      "Dimension: 2\n"
     ]
    }
   ],
   "source": [
    "iris_df = pd.read_csv('iris.csv')\n",
    "display(iris_df.head())\n",
    "print(\"Size:\", iris_df.size)\n",
    "print(\"Shape:\", iris_df.shape)\n",
    "print(\"Dimension:\", iris_df.ndim)"
   ]
  },
  {
   "cell_type": "code",
   "execution_count": 3,
   "metadata": {
    "colab": {
     "base_uri": "https://localhost:8080/",
     "height": 204
    },
    "colab_type": "code",
    "id": "zuigmpiqfNSn",
    "outputId": "feecfbc9-be9f-44c9-9d28-ad033dc98997"
   },
   "outputs": [
    {
     "data": {
      "text/html": [
       "<div>\n",
       "<style scoped>\n",
       "    .dataframe tbody tr th:only-of-type {\n",
       "        vertical-align: middle;\n",
       "    }\n",
       "\n",
       "    .dataframe tbody tr th {\n",
       "        vertical-align: top;\n",
       "    }\n",
       "\n",
       "    .dataframe thead th {\n",
       "        text-align: right;\n",
       "    }\n",
       "</style>\n",
       "<table border=\"1\" class=\"dataframe\">\n",
       "  <thead>\n",
       "    <tr style=\"text-align: right;\">\n",
       "      <th></th>\n",
       "      <th>sepal.length</th>\n",
       "      <th>sepal.width</th>\n",
       "      <th>petal.length</th>\n",
       "      <th>petal.width</th>\n",
       "      <th>variety</th>\n",
       "    </tr>\n",
       "  </thead>\n",
       "  <tbody>\n",
       "    <tr>\n",
       "      <th>123</th>\n",
       "      <td>6.3</td>\n",
       "      <td>2.7</td>\n",
       "      <td>4.9</td>\n",
       "      <td>1.8</td>\n",
       "      <td>Virginica</td>\n",
       "    </tr>\n",
       "    <tr>\n",
       "      <th>1</th>\n",
       "      <td>4.9</td>\n",
       "      <td>3.0</td>\n",
       "      <td>1.4</td>\n",
       "      <td>0.2</td>\n",
       "      <td>Setosa</td>\n",
       "    </tr>\n",
       "    <tr>\n",
       "      <th>14</th>\n",
       "      <td>5.8</td>\n",
       "      <td>4.0</td>\n",
       "      <td>1.2</td>\n",
       "      <td>0.2</td>\n",
       "      <td>Setosa</td>\n",
       "    </tr>\n",
       "    <tr>\n",
       "      <th>73</th>\n",
       "      <td>6.1</td>\n",
       "      <td>2.8</td>\n",
       "      <td>4.7</td>\n",
       "      <td>1.2</td>\n",
       "      <td>Versicolor</td>\n",
       "    </tr>\n",
       "    <tr>\n",
       "      <th>22</th>\n",
       "      <td>4.6</td>\n",
       "      <td>3.6</td>\n",
       "      <td>1.0</td>\n",
       "      <td>0.2</td>\n",
       "      <td>Setosa</td>\n",
       "    </tr>\n",
       "  </tbody>\n",
       "</table>\n",
       "</div>"
      ],
      "text/plain": [
       "     sepal.length  sepal.width  petal.length  petal.width     variety\n",
       "123           6.3          2.7           4.9          1.8   Virginica\n",
       "1             4.9          3.0           1.4          0.2      Setosa\n",
       "14            5.8          4.0           1.2          0.2      Setosa\n",
       "73            6.1          2.8           4.7          1.2  Versicolor\n",
       "22            4.6          3.6           1.0          0.2      Setosa"
      ]
     },
     "execution_count": 3,
     "metadata": {},
     "output_type": "execute_result"
    }
   ],
   "source": [
    "# The frac keyword argument specifies the fraction of rows to return in the random sample,\n",
    "# so frac=1 means return all rows (in random order).\n",
    "shuffled_iris_df = iris_df.sample(frac=1)\n",
    "shuffled_iris_df.head()"
   ]
  },
  {
   "cell_type": "code",
   "execution_count": 5,
   "metadata": {
    "colab": {
     "base_uri": "https://localhost:8080/",
     "height": 204
    },
    "colab_type": "code",
    "id": "CsKELYV9fTLb",
    "outputId": "80694ac6-48e0-42ce-9ef3-2a741913a7d9"
   },
   "outputs": [
    {
     "data": {
      "text/html": [
       "<div>\n",
       "<style scoped>\n",
       "    .dataframe tbody tr th:only-of-type {\n",
       "        vertical-align: middle;\n",
       "    }\n",
       "\n",
       "    .dataframe tbody tr th {\n",
       "        vertical-align: top;\n",
       "    }\n",
       "\n",
       "    .dataframe thead th {\n",
       "        text-align: right;\n",
       "    }\n",
       "</style>\n",
       "<table border=\"1\" class=\"dataframe\">\n",
       "  <thead>\n",
       "    <tr style=\"text-align: right;\">\n",
       "      <th></th>\n",
       "      <th>sepal.length</th>\n",
       "      <th>sepal.width</th>\n",
       "      <th>petal.length</th>\n",
       "      <th>petal.width</th>\n",
       "      <th>variety</th>\n",
       "    </tr>\n",
       "  </thead>\n",
       "  <tbody>\n",
       "    <tr>\n",
       "      <th>0</th>\n",
       "      <td>6.1</td>\n",
       "      <td>2.9</td>\n",
       "      <td>4.7</td>\n",
       "      <td>1.4</td>\n",
       "      <td>Versicolor</td>\n",
       "    </tr>\n",
       "    <tr>\n",
       "      <th>1</th>\n",
       "      <td>5.0</td>\n",
       "      <td>3.3</td>\n",
       "      <td>1.4</td>\n",
       "      <td>0.2</td>\n",
       "      <td>Setosa</td>\n",
       "    </tr>\n",
       "    <tr>\n",
       "      <th>2</th>\n",
       "      <td>4.5</td>\n",
       "      <td>2.3</td>\n",
       "      <td>1.3</td>\n",
       "      <td>0.3</td>\n",
       "      <td>Setosa</td>\n",
       "    </tr>\n",
       "    <tr>\n",
       "      <th>3</th>\n",
       "      <td>4.9</td>\n",
       "      <td>2.5</td>\n",
       "      <td>4.5</td>\n",
       "      <td>1.7</td>\n",
       "      <td>Virginica</td>\n",
       "    </tr>\n",
       "    <tr>\n",
       "      <th>4</th>\n",
       "      <td>7.7</td>\n",
       "      <td>2.6</td>\n",
       "      <td>6.9</td>\n",
       "      <td>2.3</td>\n",
       "      <td>Virginica</td>\n",
       "    </tr>\n",
       "  </tbody>\n",
       "</table>\n",
       "</div>"
      ],
      "text/plain": [
       "   sepal.length  sepal.width  petal.length  petal.width     variety\n",
       "0           6.1          2.9           4.7          1.4  Versicolor\n",
       "1           5.0          3.3           1.4          0.2      Setosa\n",
       "2           4.5          2.3           1.3          0.3      Setosa\n",
       "3           4.9          2.5           4.5          1.7   Virginica\n",
       "4           7.7          2.6           6.9          2.3   Virginica"
      ]
     },
     "execution_count": 5,
     "metadata": {},
     "output_type": "execute_result"
    }
   ],
   "source": [
    "# If you wish to shuffle your dataframe in-place and reset the index\n",
    "shuffled_iris_df = iris_df.sample(frac=1).reset_index(drop=True)\n",
    "# Here, specifying drop=True prevents .reset_index from creating a column containing the old index entries.\n",
    "shuffled_iris_df.head()"
   ]
  },
  {
   "cell_type": "code",
   "execution_count": 6,
   "metadata": {
    "colab": {
     "base_uri": "https://localhost:8080/",
     "height": 68
    },
    "colab_type": "code",
    "id": "xrDmAcIQdPS9",
    "outputId": "40005165-71a4-4a29-f2cf-312545c751fb"
   },
   "outputs": [
    {
     "name": "stdout",
     "output_type": "stream",
     "text": [
      "(150, 5)\n",
      "(150, 4)\n",
      "(150,)\n"
     ]
    }
   ],
   "source": [
    "dataset = shuffled_iris_df.values\n",
    "print(dataset.shape)\n",
    "dataset_input = dataset[:, :4].astype(float)\n",
    "dataset_output = dataset[:, 4]\n",
    "print(dataset_input.shape)\n",
    "print(dataset_output.shape)"
   ]
  },
  {
   "cell_type": "code",
   "execution_count": 7,
   "metadata": {
    "colab": {},
    "colab_type": "code",
    "id": "IwVfwy2Qkh9R"
   },
   "outputs": [],
   "source": [
    "x_train = dataset_input[:90] # 60 % Training Data\n",
    "y_train = dataset_output[:90] # 60 % Training Data\n",
    "\n",
    "val_x = dataset_input[90:120] # 20 % Validation Data\n",
    "val_y = dataset_output[90:120] # 20 % Validation Data\n",
    "\n",
    "x_test = dataset_input[120:] # 20 % Test Data\n",
    "y_test = dataset_output[120:] # 20 % Test Data"
   ]
  },
  {
   "cell_type": "code",
   "execution_count": 8,
   "metadata": {
    "colab": {
     "base_uri": "https://localhost:8080/",
     "height": 34
    },
    "colab_type": "code",
    "id": "TSZALFokktPJ",
    "outputId": "faa7e735-ed23-4c89-be61-f3ea6529020c"
   },
   "outputs": [
    {
     "data": {
      "text/plain": [
       "((90, 4), (90,), (30, 4), (30,), (30, 4), (30,))"
      ]
     },
     "execution_count": 8,
     "metadata": {},
     "output_type": "execute_result"
    }
   ],
   "source": [
    "x_train.shape , y_train.shape , x_test.shape , y_test.shape , val_x.shape , val_y.shape"
   ]
  },
  {
   "cell_type": "code",
   "execution_count": 9,
   "metadata": {
    "colab": {
     "base_uri": "https://localhost:8080/",
     "height": 51
    },
    "colab_type": "code",
    "id": "z5Qu5dj7ZQ21",
    "outputId": "24d3f273-bba8-4e8d-e029-805fe7e82598"
   },
   "outputs": [
    {
     "name": "stdout",
     "output_type": "stream",
     "text": [
      "[0. 1. 0.]\n",
      "(90, 3)\n"
     ]
    }
   ],
   "source": [
    "encoder = LabelEncoder()\n",
    "\n",
    "# encode class values as integers\n",
    "encoded_y_train = encoder.fit_transform(y_train)\n",
    "# convert integers to dummy variables (i.e. one hot encoded)\n",
    "encoded_y_train = to_categorical(encoded_y_train)\n",
    "\n",
    "# encode class values as integers\n",
    "encoded_val_y = encoder.fit_transform(val_y)\n",
    "# convert integers to dummy variables (i.e. one hot encoded)\n",
    "encoded_val_y = tf.keras.utils.to_categorical(encoded_val_y)\n",
    "\n",
    "# encode class values as integers\n",
    "encoded_y_test = encoder.fit_transform(y_test)\n",
    "# convert integers to dummy variables (i.e. one hot encoded)\n",
    "encoded_y_test = tf.keras.utils.to_categorical(encoded_y_test)\n",
    "\n",
    "print(encoded_y_train[0])\n",
    "print(encoded_y_train.shape)"
   ]
  },
  {
   "cell_type": "markdown",
   "metadata": {
    "colab_type": "text",
    "id": "AVQCKL3cThmE"
   },
   "source": [
    "### **STEP 3 : Model Architecture**\n",
    "\n",
    "\n",
    "###### Input : 4 \n",
    "###### 1 hidden Layer : 8 nodes\n",
    "###### Output : 3"
   ]
  },
  {
   "cell_type": "code",
   "execution_count": 10,
   "metadata": {
    "colab": {},
    "colab_type": "code",
    "id": "gl1MmQ50TpU5"
   },
   "outputs": [],
   "source": [
    "network = models.Sequential()\n",
    "network.add(layers.Dense(8, activation='relu', input_shape=(4,)))\n",
    "network.add(layers.Dense(3, activation='softmax'))"
   ]
  },
  {
   "cell_type": "markdown",
   "metadata": {
    "colab_type": "text",
    "id": "XCeAEATeTsdJ"
   },
   "source": [
    "### **STEP 4 : Compilation Step**"
   ]
  },
  {
   "cell_type": "code",
   "execution_count": 11,
   "metadata": {
    "colab": {
     "base_uri": "https://localhost:8080/",
     "height": 1000
    },
    "colab_type": "code",
    "id": "b-e5B4dRTudg",
    "outputId": "f9eeb646-f548-456b-8d08-0fd465ce7ae2"
   },
   "outputs": [
    {
     "name": "stdout",
     "output_type": "stream",
     "text": [
      "Train on 90 samples, validate on 30 samples\n",
      "Epoch 1/200\n",
      "90/90 [==============================] - 6s 65ms/sample - loss: 1.9787 - accuracy: 0.6111 - val_loss: 2.2858 - val_accuracy: 0.5000\n",
      "Epoch 2/200\n",
      "90/90 [==============================] - 0s 1ms/sample - loss: 1.9223 - accuracy: 0.5444 - val_loss: 2.2218 - val_accuracy: 0.4333\n",
      "Epoch 3/200\n",
      "90/90 [==============================] - 0s 1ms/sample - loss: 1.8671 - accuracy: 0.4556 - val_loss: 2.1618 - val_accuracy: 0.4000\n",
      "Epoch 4/200\n",
      "90/90 [==============================] - 0s 1ms/sample - loss: 1.8167 - accuracy: 0.4000 - val_loss: 2.1044 - val_accuracy: 0.4000\n",
      "Epoch 5/200\n",
      "90/90 [==============================] - 0s 1ms/sample - loss: 1.7677 - accuracy: 0.4000 - val_loss: 2.0488 - val_accuracy: 0.4000\n",
      "Epoch 6/200\n",
      "90/90 [==============================] - 0s 1ms/sample - loss: 1.7222 - accuracy: 0.4000 - val_loss: 1.9955 - val_accuracy: 0.4000\n",
      "Epoch 7/200\n",
      "90/90 [==============================] - 0s 1ms/sample - loss: 1.6790 - accuracy: 0.4111 - val_loss: 1.9430 - val_accuracy: 0.4000\n",
      "Epoch 8/200\n",
      "90/90 [==============================] - 0s 911us/sample - loss: 1.6370 - accuracy: 0.4444 - val_loss: 1.8915 - val_accuracy: 0.4667\n",
      "Epoch 9/200\n",
      "90/90 [==============================] - 0s 1ms/sample - loss: 1.5971 - accuracy: 0.4556 - val_loss: 1.8418 - val_accuracy: 0.4667\n",
      "Epoch 10/200\n",
      "90/90 [==============================] - 0s 922us/sample - loss: 1.5550 - accuracy: 0.4778 - val_loss: 1.7942 - val_accuracy: 0.4667\n",
      "Epoch 11/200\n",
      "90/90 [==============================] - 0s 1ms/sample - loss: 1.5184 - accuracy: 0.4667 - val_loss: 1.7469 - val_accuracy: 0.4000\n",
      "Epoch 12/200\n",
      "90/90 [==============================] - 0s 1ms/sample - loss: 1.4811 - accuracy: 0.4889 - val_loss: 1.7008 - val_accuracy: 0.4000\n",
      "Epoch 13/200\n",
      "90/90 [==============================] - 0s 1ms/sample - loss: 1.4441 - accuracy: 0.5000 - val_loss: 1.6556 - val_accuracy: 0.4000\n",
      "Epoch 14/200\n",
      "90/90 [==============================] - 0s 978us/sample - loss: 1.4084 - accuracy: 0.5000 - val_loss: 1.6115 - val_accuracy: 0.3333\n",
      "Epoch 15/200\n",
      "90/90 [==============================] - 0s 1ms/sample - loss: 1.3735 - accuracy: 0.4667 - val_loss: 1.5687 - val_accuracy: 0.3333\n",
      "Epoch 16/200\n",
      "90/90 [==============================] - 0s 1ms/sample - loss: 1.3417 - accuracy: 0.4333 - val_loss: 1.5264 - val_accuracy: 0.3000\n",
      "Epoch 17/200\n",
      "90/90 [==============================] - 0s 978us/sample - loss: 1.3063 - accuracy: 0.4333 - val_loss: 1.4863 - val_accuracy: 0.3000\n",
      "Epoch 18/200\n",
      "90/90 [==============================] - 0s 1ms/sample - loss: 1.2739 - accuracy: 0.4333 - val_loss: 1.4475 - val_accuracy: 0.3000\n",
      "Epoch 19/200\n",
      "90/90 [==============================] - 0s 1ms/sample - loss: 1.2420 - accuracy: 0.4333 - val_loss: 1.4099 - val_accuracy: 0.2667\n",
      "Epoch 20/200\n",
      "90/90 [==============================] - 0s 1ms/sample - loss: 1.2150 - accuracy: 0.4333 - val_loss: 1.3724 - val_accuracy: 0.2667\n",
      "Epoch 21/200\n",
      "90/90 [==============================] - 0s 1ms/sample - loss: 1.1851 - accuracy: 0.4333 - val_loss: 1.3365 - val_accuracy: 0.2667\n",
      "Epoch 22/200\n",
      "90/90 [==============================] - 0s 1ms/sample - loss: 1.1562 - accuracy: 0.4222 - val_loss: 1.2993 - val_accuracy: 0.2667\n",
      "Epoch 23/200\n",
      "90/90 [==============================] - 0s 1ms/sample - loss: 1.1239 - accuracy: 0.4000 - val_loss: 1.2645 - val_accuracy: 0.2667\n",
      "Epoch 24/200\n",
      "90/90 [==============================] - 0s 933us/sample - loss: 1.0977 - accuracy: 0.4000 - val_loss: 1.2283 - val_accuracy: 0.2667\n",
      "Epoch 25/200\n",
      "90/90 [==============================] - 0s 956us/sample - loss: 1.0712 - accuracy: 0.4000 - val_loss: 1.1943 - val_accuracy: 0.2667\n",
      "Epoch 26/200\n",
      "90/90 [==============================] - 0s 1ms/sample - loss: 1.0468 - accuracy: 0.3889 - val_loss: 1.1619 - val_accuracy: 0.2667\n",
      "Epoch 27/200\n",
      "90/90 [==============================] - 0s 1ms/sample - loss: 1.0239 - accuracy: 0.3889 - val_loss: 1.1319 - val_accuracy: 0.2667\n",
      "Epoch 28/200\n",
      "90/90 [==============================] - 0s 1ms/sample - loss: 1.0043 - accuracy: 0.3889 - val_loss: 1.1040 - val_accuracy: 0.2667\n",
      "Epoch 29/200\n",
      "90/90 [==============================] - 0s 1ms/sample - loss: 0.9849 - accuracy: 0.3889 - val_loss: 1.0794 - val_accuracy: 0.2667\n",
      "Epoch 30/200\n",
      "90/90 [==============================] - 0s 1ms/sample - loss: 0.9686 - accuracy: 0.3889 - val_loss: 1.0566 - val_accuracy: 0.2667\n",
      "Epoch 31/200\n",
      "90/90 [==============================] - 0s 1ms/sample - loss: 0.9534 - accuracy: 0.3778 - val_loss: 1.0354 - val_accuracy: 0.2667\n",
      "Epoch 32/200\n",
      "90/90 [==============================] - 0s 967us/sample - loss: 0.9385 - accuracy: 0.3778 - val_loss: 1.0161 - val_accuracy: 0.2667\n",
      "Epoch 33/200\n",
      "90/90 [==============================] - 0s 967us/sample - loss: 0.9249 - accuracy: 0.3778 - val_loss: 0.9983 - val_accuracy: 0.2667\n",
      "Epoch 34/200\n",
      "90/90 [==============================] - 0s 1ms/sample - loss: 0.9121 - accuracy: 0.3889 - val_loss: 0.9819 - val_accuracy: 0.3000\n",
      "Epoch 35/200\n",
      "90/90 [==============================] - 0s 1ms/sample - loss: 0.9009 - accuracy: 0.3889 - val_loss: 0.9664 - val_accuracy: 0.3000\n",
      "Epoch 36/200\n",
      "90/90 [==============================] - 0s 956us/sample - loss: 0.8903 - accuracy: 0.4000 - val_loss: 0.9519 - val_accuracy: 0.3000\n",
      "Epoch 37/200\n",
      "90/90 [==============================] - 0s 1ms/sample - loss: 0.8805 - accuracy: 0.4000 - val_loss: 0.9381 - val_accuracy: 0.3000\n",
      "Epoch 38/200\n",
      "90/90 [==============================] - 0s 1ms/sample - loss: 0.8699 - accuracy: 0.4000 - val_loss: 0.9259 - val_accuracy: 0.3000\n",
      "Epoch 39/200\n",
      "90/90 [==============================] - 0s 889us/sample - loss: 0.8603 - accuracy: 0.4111 - val_loss: 0.9146 - val_accuracy: 0.3000\n",
      "Epoch 40/200\n",
      "90/90 [==============================] - 0s 900us/sample - loss: 0.8527 - accuracy: 0.4111 - val_loss: 0.9032 - val_accuracy: 0.3333\n",
      "Epoch 41/200\n",
      "90/90 [==============================] - 0s 922us/sample - loss: 0.8440 - accuracy: 0.4111 - val_loss: 0.8927 - val_accuracy: 0.3333\n",
      "Epoch 42/200\n",
      "90/90 [==============================] - 0s 1ms/sample - loss: 0.8366 - accuracy: 0.4222 - val_loss: 0.8828 - val_accuracy: 0.3333\n",
      "Epoch 43/200\n",
      "90/90 [==============================] - 0s 933us/sample - loss: 0.8278 - accuracy: 0.4444 - val_loss: 0.8739 - val_accuracy: 0.3333\n",
      "Epoch 44/200\n",
      "90/90 [==============================] - 0s 1ms/sample - loss: 0.8205 - accuracy: 0.4667 - val_loss: 0.8650 - val_accuracy: 0.3333\n",
      "Epoch 45/200\n",
      "90/90 [==============================] - 0s 1ms/sample - loss: 0.8130 - accuracy: 0.4778 - val_loss: 0.8566 - val_accuracy: 0.3667\n",
      "Epoch 46/200\n",
      "90/90 [==============================] - 0s 1ms/sample - loss: 0.8058 - accuracy: 0.5000 - val_loss: 0.8486 - val_accuracy: 0.3667\n",
      "Epoch 47/200\n",
      "90/90 [==============================] - 0s 1ms/sample - loss: 0.7988 - accuracy: 0.5111 - val_loss: 0.8406 - val_accuracy: 0.3667\n",
      "Epoch 48/200\n",
      "90/90 [==============================] - 0s 1ms/sample - loss: 0.7921 - accuracy: 0.5444 - val_loss: 0.8331 - val_accuracy: 0.5000\n",
      "Epoch 49/200\n",
      "90/90 [==============================] - 0s 1ms/sample - loss: 0.7850 - accuracy: 0.6444 - val_loss: 0.8258 - val_accuracy: 0.5667\n",
      "Epoch 50/200\n",
      "90/90 [==============================] - 0s 878us/sample - loss: 0.7787 - accuracy: 0.7111 - val_loss: 0.8185 - val_accuracy: 0.6000\n",
      "Epoch 51/200\n",
      "90/90 [==============================] - 0s 1ms/sample - loss: 0.7727 - accuracy: 0.7111 - val_loss: 0.8110 - val_accuracy: 0.6333\n",
      "Epoch 52/200\n",
      "90/90 [==============================] - 0s 978us/sample - loss: 0.7655 - accuracy: 0.7667 - val_loss: 0.8045 - val_accuracy: 0.6333\n",
      "Epoch 53/200\n",
      "90/90 [==============================] - 0s 989us/sample - loss: 0.7592 - accuracy: 0.7667 - val_loss: 0.7982 - val_accuracy: 0.6333\n",
      "Epoch 54/200\n",
      "90/90 [==============================] - 0s 1ms/sample - loss: 0.7533 - accuracy: 0.7778 - val_loss: 0.7921 - val_accuracy: 0.6333\n",
      "Epoch 55/200\n",
      "90/90 [==============================] - 0s 889us/sample - loss: 0.7476 - accuracy: 0.7778 - val_loss: 0.7855 - val_accuracy: 0.6667\n",
      "Epoch 56/200\n",
      "90/90 [==============================] - 0s 1ms/sample - loss: 0.7410 - accuracy: 0.8111 - val_loss: 0.7793 - val_accuracy: 0.6667\n",
      "Epoch 57/200\n"
     ]
    },
    {
     "name": "stdout",
     "output_type": "stream",
     "text": [
      "90/90 [==============================] - 0s 1ms/sample - loss: 0.7352 - accuracy: 0.8111 - val_loss: 0.7731 - val_accuracy: 0.6667\n",
      "Epoch 58/200\n",
      "90/90 [==============================] - 0s 900us/sample - loss: 0.7297 - accuracy: 0.8111 - val_loss: 0.7669 - val_accuracy: 0.7000\n",
      "Epoch 59/200\n",
      "90/90 [==============================] - 0s 844us/sample - loss: 0.7237 - accuracy: 0.8111 - val_loss: 0.7612 - val_accuracy: 0.7000\n",
      "Epoch 60/200\n",
      "90/90 [==============================] - 0s 867us/sample - loss: 0.7183 - accuracy: 0.8111 - val_loss: 0.7557 - val_accuracy: 0.7000\n",
      "Epoch 61/200\n",
      "90/90 [==============================] - 0s 933us/sample - loss: 0.7126 - accuracy: 0.8111 - val_loss: 0.7500 - val_accuracy: 0.7000\n",
      "Epoch 62/200\n",
      "90/90 [==============================] - 0s 889us/sample - loss: 0.7070 - accuracy: 0.8111 - val_loss: 0.7443 - val_accuracy: 0.7333\n",
      "Epoch 63/200\n",
      "90/90 [==============================] - 0s 1ms/sample - loss: 0.7019 - accuracy: 0.8111 - val_loss: 0.7388 - val_accuracy: 0.7333\n",
      "Epoch 64/200\n",
      "90/90 [==============================] - 0s 967us/sample - loss: 0.6967 - accuracy: 0.8111 - val_loss: 0.7331 - val_accuracy: 0.7333\n",
      "Epoch 65/200\n",
      "90/90 [==============================] - 0s 878us/sample - loss: 0.6913 - accuracy: 0.8111 - val_loss: 0.7272 - val_accuracy: 0.7333\n",
      "Epoch 66/200\n",
      "90/90 [==============================] - 0s 911us/sample - loss: 0.6861 - accuracy: 0.8222 - val_loss: 0.7218 - val_accuracy: 0.7333\n",
      "Epoch 67/200\n",
      "90/90 [==============================] - 0s 922us/sample - loss: 0.6809 - accuracy: 0.8333 - val_loss: 0.7167 - val_accuracy: 0.7667\n",
      "Epoch 68/200\n",
      "90/90 [==============================] - 0s 1ms/sample - loss: 0.6761 - accuracy: 0.8333 - val_loss: 0.7115 - val_accuracy: 0.7667\n",
      "Epoch 69/200\n",
      "90/90 [==============================] - 0s 1ms/sample - loss: 0.6710 - accuracy: 0.8333 - val_loss: 0.7066 - val_accuracy: 0.7667\n",
      "Epoch 70/200\n",
      "90/90 [==============================] - 0s 2ms/sample - loss: 0.6662 - accuracy: 0.8333 - val_loss: 0.7016 - val_accuracy: 0.7667\n",
      "Epoch 71/200\n",
      "90/90 [==============================] - 0s 1ms/sample - loss: 0.6616 - accuracy: 0.8333 - val_loss: 0.6970 - val_accuracy: 0.7667\n",
      "Epoch 72/200\n",
      "90/90 [==============================] - 0s 744us/sample - loss: 0.6569 - accuracy: 0.8333 - val_loss: 0.6923 - val_accuracy: 0.7667\n",
      "Epoch 73/200\n",
      "90/90 [==============================] - 0s 789us/sample - loss: 0.6522 - accuracy: 0.8333 - val_loss: 0.6874 - val_accuracy: 0.7667\n",
      "Epoch 74/200\n",
      "90/90 [==============================] - 0s 800us/sample - loss: 0.6477 - accuracy: 0.8333 - val_loss: 0.6826 - val_accuracy: 0.7667\n",
      "Epoch 75/200\n",
      "90/90 [==============================] - 0s 756us/sample - loss: 0.6433 - accuracy: 0.8333 - val_loss: 0.6775 - val_accuracy: 0.7667\n",
      "Epoch 76/200\n",
      "90/90 [==============================] - 0s 811us/sample - loss: 0.6387 - accuracy: 0.8333 - val_loss: 0.6728 - val_accuracy: 0.7667\n",
      "Epoch 77/200\n",
      "90/90 [==============================] - 0s 911us/sample - loss: 0.6343 - accuracy: 0.8333 - val_loss: 0.6681 - val_accuracy: 0.7667\n",
      "Epoch 78/200\n",
      "90/90 [==============================] - 0s 1ms/sample - loss: 0.6303 - accuracy: 0.8333 - val_loss: 0.6632 - val_accuracy: 0.8000\n",
      "Epoch 79/200\n",
      "90/90 [==============================] - 0s 1ms/sample - loss: 0.6259 - accuracy: 0.8333 - val_loss: 0.6588 - val_accuracy: 0.8333\n",
      "Epoch 80/200\n",
      "90/90 [==============================] - 0s 1ms/sample - loss: 0.6219 - accuracy: 0.8444 - val_loss: 0.6541 - val_accuracy: 0.8333\n",
      "Epoch 81/200\n",
      "90/90 [==============================] - 0s 1ms/sample - loss: 0.6176 - accuracy: 0.8556 - val_loss: 0.6501 - val_accuracy: 0.8333\n",
      "Epoch 82/200\n",
      "90/90 [==============================] - 0s 1ms/sample - loss: 0.6139 - accuracy: 0.8556 - val_loss: 0.6457 - val_accuracy: 0.8333\n",
      "Epoch 83/200\n",
      "90/90 [==============================] - 0s 1ms/sample - loss: 0.6098 - accuracy: 0.8556 - val_loss: 0.6421 - val_accuracy: 0.8333\n",
      "Epoch 84/200\n",
      "90/90 [==============================] - 0s 789us/sample - loss: 0.6061 - accuracy: 0.8556 - val_loss: 0.6385 - val_accuracy: 0.8333\n",
      "Epoch 85/200\n",
      "90/90 [==============================] - 0s 1ms/sample - loss: 0.6020 - accuracy: 0.8556 - val_loss: 0.6340 - val_accuracy: 0.8333\n",
      "Epoch 86/200\n",
      "90/90 [==============================] - 0s 1ms/sample - loss: 0.5984 - accuracy: 0.8778 - val_loss: 0.6295 - val_accuracy: 0.8333\n",
      "Epoch 87/200\n",
      "90/90 [==============================] - 0s 1ms/sample - loss: 0.5948 - accuracy: 0.8889 - val_loss: 0.6252 - val_accuracy: 0.8333\n",
      "Epoch 88/200\n",
      "90/90 [==============================] - 0s 1ms/sample - loss: 0.5910 - accuracy: 0.9000 - val_loss: 0.6216 - val_accuracy: 0.8333\n",
      "Epoch 89/200\n",
      "90/90 [==============================] - 0s 1ms/sample - loss: 0.5873 - accuracy: 0.9000 - val_loss: 0.6178 - val_accuracy: 0.8333\n",
      "Epoch 90/200\n",
      "90/90 [==============================] - 0s 956us/sample - loss: 0.5839 - accuracy: 0.9000 - val_loss: 0.6144 - val_accuracy: 0.8333\n",
      "Epoch 91/200\n",
      "90/90 [==============================] - 0s 856us/sample - loss: 0.5805 - accuracy: 0.9000 - val_loss: 0.6103 - val_accuracy: 0.8333\n",
      "Epoch 92/200\n",
      "90/90 [==============================] - 0s 1ms/sample - loss: 0.5770 - accuracy: 0.9000 - val_loss: 0.6070 - val_accuracy: 0.8333\n",
      "Epoch 93/200\n",
      "90/90 [==============================] - 0s 1ms/sample - loss: 0.5736 - accuracy: 0.9000 - val_loss: 0.6036 - val_accuracy: 0.8333\n",
      "Epoch 94/200\n",
      "90/90 [==============================] - 0s 722us/sample - loss: 0.5704 - accuracy: 0.9000 - val_loss: 0.5997 - val_accuracy: 0.8333\n",
      "Epoch 95/200\n",
      "90/90 [==============================] - 0s 956us/sample - loss: 0.5670 - accuracy: 0.9000 - val_loss: 0.5962 - val_accuracy: 0.8667\n",
      "Epoch 96/200\n",
      "90/90 [==============================] - 0s 1ms/sample - loss: 0.5640 - accuracy: 0.9000 - val_loss: 0.5933 - val_accuracy: 0.8333\n",
      "Epoch 97/200\n",
      "90/90 [==============================] - 0s 1ms/sample - loss: 0.5608 - accuracy: 0.9000 - val_loss: 0.5896 - val_accuracy: 0.8667\n",
      "Epoch 98/200\n",
      "90/90 [==============================] - 0s 844us/sample - loss: 0.5577 - accuracy: 0.9000 - val_loss: 0.5859 - val_accuracy: 0.8667\n",
      "Epoch 99/200\n",
      "90/90 [==============================] - 0s 844us/sample - loss: 0.5548 - accuracy: 0.9000 - val_loss: 0.5832 - val_accuracy: 0.8667\n",
      "Epoch 100/200\n",
      "90/90 [==============================] - 0s 1ms/sample - loss: 0.5514 - accuracy: 0.9000 - val_loss: 0.5798 - val_accuracy: 0.8667\n",
      "Epoch 101/200\n",
      "90/90 [==============================] - 0s 1ms/sample - loss: 0.5488 - accuracy: 0.9000 - val_loss: 0.5759 - val_accuracy: 0.8667\n",
      "Epoch 102/200\n",
      "90/90 [==============================] - 0s 844us/sample - loss: 0.5456 - accuracy: 0.9000 - val_loss: 0.5727 - val_accuracy: 0.8667\n",
      "Epoch 103/200\n",
      "90/90 [==============================] - 0s 1ms/sample - loss: 0.5428 - accuracy: 0.9000 - val_loss: 0.5693 - val_accuracy: 0.8667\n",
      "Epoch 104/200\n",
      "90/90 [==============================] - 0s 1ms/sample - loss: 0.5402 - accuracy: 0.9000 - val_loss: 0.5659 - val_accuracy: 0.9000\n",
      "Epoch 105/200\n",
      "90/90 [==============================] - 0s 911us/sample - loss: 0.5372 - accuracy: 0.9000 - val_loss: 0.5629 - val_accuracy: 0.9000\n",
      "Epoch 106/200\n",
      "90/90 [==============================] - 0s 811us/sample - loss: 0.5344 - accuracy: 0.9000 - val_loss: 0.5601 - val_accuracy: 0.9000\n",
      "Epoch 107/200\n",
      "90/90 [==============================] - 0s 678us/sample - loss: 0.5317 - accuracy: 0.9000 - val_loss: 0.5569 - val_accuracy: 0.9000\n",
      "Epoch 108/200\n",
      "90/90 [==============================] - 0s 656us/sample - loss: 0.5290 - accuracy: 0.9000 - val_loss: 0.5540 - val_accuracy: 0.9000\n",
      "Epoch 109/200\n",
      "90/90 [==============================] - 0s 811us/sample - loss: 0.5264 - accuracy: 0.9000 - val_loss: 0.5512 - val_accuracy: 0.9000\n",
      "Epoch 110/200\n",
      "90/90 [==============================] - 0s 678us/sample - loss: 0.5240 - accuracy: 0.9000 - val_loss: 0.5489 - val_accuracy: 0.9000\n",
      "Epoch 111/200\n",
      "90/90 [==============================] - 0s 678us/sample - loss: 0.5213 - accuracy: 0.9000 - val_loss: 0.5461 - val_accuracy: 0.9000\n",
      "Epoch 112/200\n",
      "90/90 [==============================] - 0s 833us/sample - loss: 0.5188 - accuracy: 0.9000 - val_loss: 0.5429 - val_accuracy: 0.9000\n",
      "Epoch 113/200\n"
     ]
    },
    {
     "name": "stdout",
     "output_type": "stream",
     "text": [
      "90/90 [==============================] - 0s 711us/sample - loss: 0.5163 - accuracy: 0.9000 - val_loss: 0.5400 - val_accuracy: 0.9000\n",
      "Epoch 114/200\n",
      "90/90 [==============================] - 0s 767us/sample - loss: 0.5138 - accuracy: 0.9000 - val_loss: 0.5371 - val_accuracy: 0.9000\n",
      "Epoch 115/200\n",
      "90/90 [==============================] - 0s 1ms/sample - loss: 0.5114 - accuracy: 0.9000 - val_loss: 0.5344 - val_accuracy: 0.9000\n",
      "Epoch 116/200\n",
      "90/90 [==============================] - 0s 1ms/sample - loss: 0.5091 - accuracy: 0.9000 - val_loss: 0.5315 - val_accuracy: 0.9000\n",
      "Epoch 117/200\n",
      "90/90 [==============================] - 0s 633us/sample - loss: 0.5066 - accuracy: 0.9000 - val_loss: 0.5290 - val_accuracy: 0.9000\n",
      "Epoch 118/200\n",
      "90/90 [==============================] - 0s 656us/sample - loss: 0.5043 - accuracy: 0.9000 - val_loss: 0.5267 - val_accuracy: 0.9000\n",
      "Epoch 119/200\n",
      "90/90 [==============================] - 0s 600us/sample - loss: 0.5022 - accuracy: 0.9000 - val_loss: 0.5244 - val_accuracy: 0.9000\n",
      "Epoch 120/200\n",
      "90/90 [==============================] - 0s 967us/sample - loss: 0.4998 - accuracy: 0.9111 - val_loss: 0.5217 - val_accuracy: 0.9000\n",
      "Epoch 121/200\n",
      "90/90 [==============================] - 0s 1ms/sample - loss: 0.4976 - accuracy: 0.9111 - val_loss: 0.5187 - val_accuracy: 0.9000\n",
      "Epoch 122/200\n",
      "90/90 [==============================] - 0s 856us/sample - loss: 0.4953 - accuracy: 0.9111 - val_loss: 0.5162 - val_accuracy: 0.9000\n",
      "Epoch 123/200\n",
      "90/90 [==============================] - 0s 644us/sample - loss: 0.4931 - accuracy: 0.9111 - val_loss: 0.5135 - val_accuracy: 0.9000\n",
      "Epoch 124/200\n",
      "90/90 [==============================] - 0s 989us/sample - loss: 0.4910 - accuracy: 0.9111 - val_loss: 0.5106 - val_accuracy: 0.9000\n",
      "Epoch 125/200\n",
      "90/90 [==============================] - 0s 1ms/sample - loss: 0.4889 - accuracy: 0.9111 - val_loss: 0.5081 - val_accuracy: 0.9000\n",
      "Epoch 126/200\n",
      "90/90 [==============================] - 0s 1ms/sample - loss: 0.4870 - accuracy: 0.9111 - val_loss: 0.5059 - val_accuracy: 0.9000\n",
      "Epoch 127/200\n",
      "90/90 [==============================] - 0s 678us/sample - loss: 0.4847 - accuracy: 0.9111 - val_loss: 0.5033 - val_accuracy: 0.9000\n",
      "Epoch 128/200\n",
      "90/90 [==============================] - 0s 789us/sample - loss: 0.4827 - accuracy: 0.9111 - val_loss: 0.5007 - val_accuracy: 0.9000\n",
      "Epoch 129/200\n",
      "90/90 [==============================] - 0s 1ms/sample - loss: 0.4808 - accuracy: 0.9111 - val_loss: 0.4985 - val_accuracy: 0.9000\n",
      "Epoch 130/200\n",
      "90/90 [==============================] - 0s 1ms/sample - loss: 0.4788 - accuracy: 0.9111 - val_loss: 0.4962 - val_accuracy: 0.9000\n",
      "Epoch 131/200\n",
      "90/90 [==============================] - 0s 689us/sample - loss: 0.4771 - accuracy: 0.9000 - val_loss: 0.4934 - val_accuracy: 0.9000\n",
      "Epoch 132/200\n",
      "90/90 [==============================] - 0s 600us/sample - loss: 0.4748 - accuracy: 0.9000 - val_loss: 0.4911 - val_accuracy: 0.9000\n",
      "Epoch 133/200\n",
      "90/90 [==============================] - 0s 544us/sample - loss: 0.4730 - accuracy: 0.9000 - val_loss: 0.4890 - val_accuracy: 0.9000\n",
      "Epoch 134/200\n",
      "90/90 [==============================] - 0s 533us/sample - loss: 0.4710 - accuracy: 0.9000 - val_loss: 0.4872 - val_accuracy: 0.9000\n",
      "Epoch 135/200\n",
      "90/90 [==============================] - 0s 567us/sample - loss: 0.4693 - accuracy: 0.9111 - val_loss: 0.4857 - val_accuracy: 0.9000\n",
      "Epoch 136/200\n",
      "90/90 [==============================] - 0s 633us/sample - loss: 0.4673 - accuracy: 0.9111 - val_loss: 0.4836 - val_accuracy: 0.9000\n",
      "Epoch 137/200\n",
      "90/90 [==============================] - 0s 978us/sample - loss: 0.4656 - accuracy: 0.9111 - val_loss: 0.4812 - val_accuracy: 0.9000\n",
      "Epoch 138/200\n",
      "90/90 [==============================] - 0s 1ms/sample - loss: 0.4636 - accuracy: 0.9111 - val_loss: 0.4794 - val_accuracy: 0.9000\n",
      "Epoch 139/200\n",
      "90/90 [==============================] - 0s 756us/sample - loss: 0.4619 - accuracy: 0.9000 - val_loss: 0.4771 - val_accuracy: 0.9000\n",
      "Epoch 140/200\n",
      "90/90 [==============================] - 0s 567us/sample - loss: 0.4600 - accuracy: 0.9111 - val_loss: 0.4753 - val_accuracy: 0.9000\n",
      "Epoch 141/200\n",
      "90/90 [==============================] - 0s 556us/sample - loss: 0.4584 - accuracy: 0.9111 - val_loss: 0.4737 - val_accuracy: 0.9000\n",
      "Epoch 142/200\n",
      "90/90 [==============================] - 0s 656us/sample - loss: 0.4566 - accuracy: 0.9111 - val_loss: 0.4717 - val_accuracy: 0.9000\n",
      "Epoch 143/200\n",
      "90/90 [==============================] - 0s 1ms/sample - loss: 0.4549 - accuracy: 0.9111 - val_loss: 0.4694 - val_accuracy: 0.9000\n",
      "Epoch 144/200\n",
      "90/90 [==============================] - 0s 1ms/sample - loss: 0.4532 - accuracy: 0.9000 - val_loss: 0.4673 - val_accuracy: 0.9000\n",
      "Epoch 145/200\n",
      "90/90 [==============================] - 0s 789us/sample - loss: 0.4517 - accuracy: 0.9000 - val_loss: 0.4646 - val_accuracy: 0.9000\n",
      "Epoch 146/200\n",
      "90/90 [==============================] - 0s 722us/sample - loss: 0.4499 - accuracy: 0.9111 - val_loss: 0.4627 - val_accuracy: 0.9000\n",
      "Epoch 147/200\n",
      "90/90 [==============================] - 0s 1ms/sample - loss: 0.4481 - accuracy: 0.9111 - val_loss: 0.4609 - val_accuracy: 0.9000\n",
      "Epoch 148/200\n",
      "90/90 [==============================] - 0s 900us/sample - loss: 0.4466 - accuracy: 0.9111 - val_loss: 0.4589 - val_accuracy: 0.9000\n",
      "Epoch 149/200\n",
      "90/90 [==============================] - 0s 778us/sample - loss: 0.4449 - accuracy: 0.9111 - val_loss: 0.4573 - val_accuracy: 0.9000\n",
      "Epoch 150/200\n",
      "90/90 [==============================] - 0s 722us/sample - loss: 0.4433 - accuracy: 0.9111 - val_loss: 0.4556 - val_accuracy: 0.9000\n",
      "Epoch 151/200\n",
      "90/90 [==============================] - 0s 1ms/sample - loss: 0.4418 - accuracy: 0.9111 - val_loss: 0.4534 - val_accuracy: 0.9000\n",
      "Epoch 152/200\n",
      "90/90 [==============================] - 0s 1ms/sample - loss: 0.4402 - accuracy: 0.9111 - val_loss: 0.4518 - val_accuracy: 0.9000\n",
      "Epoch 153/200\n",
      "90/90 [==============================] - 0s 711us/sample - loss: 0.4386 - accuracy: 0.9111 - val_loss: 0.4501 - val_accuracy: 0.9000\n",
      "Epoch 154/200\n",
      "90/90 [==============================] - 0s 600us/sample - loss: 0.4371 - accuracy: 0.9111 - val_loss: 0.4485 - val_accuracy: 0.9000\n",
      "Epoch 155/200\n",
      "90/90 [==============================] - 0s 967us/sample - loss: 0.4356 - accuracy: 0.9111 - val_loss: 0.4470 - val_accuracy: 0.9000\n",
      "Epoch 156/200\n",
      "90/90 [==============================] - 0s 644us/sample - loss: 0.4340 - accuracy: 0.9111 - val_loss: 0.4449 - val_accuracy: 0.9000\n",
      "Epoch 157/200\n",
      "90/90 [==============================] - 0s 1ms/sample - loss: 0.4325 - accuracy: 0.9111 - val_loss: 0.4429 - val_accuracy: 0.9000\n",
      "Epoch 158/200\n",
      "90/90 [==============================] - 0s 767us/sample - loss: 0.4310 - accuracy: 0.9111 - val_loss: 0.4408 - val_accuracy: 0.9000\n",
      "Epoch 159/200\n",
      "90/90 [==============================] - 0s 622us/sample - loss: 0.4296 - accuracy: 0.9111 - val_loss: 0.4389 - val_accuracy: 0.9000\n",
      "Epoch 160/200\n",
      "90/90 [==============================] - 0s 1ms/sample - loss: 0.4281 - accuracy: 0.9111 - val_loss: 0.4371 - val_accuracy: 0.9000\n",
      "Epoch 161/200\n",
      "90/90 [==============================] - 0s 1ms/sample - loss: 0.4266 - accuracy: 0.9111 - val_loss: 0.4352 - val_accuracy: 0.9000\n",
      "Epoch 162/200\n",
      "90/90 [==============================] - 0s 744us/sample - loss: 0.4252 - accuracy: 0.9111 - val_loss: 0.4329 - val_accuracy: 0.9333\n",
      "Epoch 163/200\n",
      "90/90 [==============================] - 0s 611us/sample - loss: 0.4238 - accuracy: 0.9111 - val_loss: 0.4309 - val_accuracy: 0.9333\n",
      "Epoch 164/200\n",
      "90/90 [==============================] - 0s 733us/sample - loss: 0.4225 - accuracy: 0.9111 - val_loss: 0.4296 - val_accuracy: 0.9333\n",
      "Epoch 165/200\n",
      "90/90 [==============================] - 0s 978us/sample - loss: 0.4209 - accuracy: 0.9111 - val_loss: 0.4278 - val_accuracy: 0.9333\n",
      "Epoch 166/200\n",
      "90/90 [==============================] - 0s 1ms/sample - loss: 0.4196 - accuracy: 0.9111 - val_loss: 0.4261 - val_accuracy: 0.9333\n",
      "Epoch 167/200\n",
      "90/90 [==============================] - 0s 878us/sample - loss: 0.4182 - accuracy: 0.9111 - val_loss: 0.4242 - val_accuracy: 0.9333\n",
      "Epoch 168/200\n",
      "90/90 [==============================] - 0s 800us/sample - loss: 0.4171 - accuracy: 0.9111 - val_loss: 0.4220 - val_accuracy: 0.9333\n",
      "Epoch 169/200\n"
     ]
    },
    {
     "name": "stdout",
     "output_type": "stream",
     "text": [
      "90/90 [==============================] - 0s 578us/sample - loss: 0.4155 - accuracy: 0.9111 - val_loss: 0.4205 - val_accuracy: 0.9333\n",
      "Epoch 170/200\n",
      "90/90 [==============================] - 0s 656us/sample - loss: 0.4141 - accuracy: 0.9111 - val_loss: 0.4189 - val_accuracy: 0.9333\n",
      "Epoch 171/200\n",
      "90/90 [==============================] - 0s 589us/sample - loss: 0.4129 - accuracy: 0.9111 - val_loss: 0.4177 - val_accuracy: 0.9333\n",
      "Epoch 172/200\n",
      "90/90 [==============================] - 0s 533us/sample - loss: 0.4115 - accuracy: 0.9111 - val_loss: 0.4164 - val_accuracy: 0.9333\n",
      "Epoch 173/200\n",
      "90/90 [==============================] - 0s 556us/sample - loss: 0.4101 - accuracy: 0.9111 - val_loss: 0.4148 - val_accuracy: 0.9333\n",
      "Epoch 174/200\n",
      "90/90 [==============================] - 0s 611us/sample - loss: 0.4090 - accuracy: 0.9111 - val_loss: 0.4127 - val_accuracy: 0.9333\n",
      "Epoch 175/200\n",
      "90/90 [==============================] - 0s 578us/sample - loss: 0.4076 - accuracy: 0.9111 - val_loss: 0.4114 - val_accuracy: 0.9333\n",
      "Epoch 176/200\n",
      "90/90 [==============================] - 0s 522us/sample - loss: 0.4062 - accuracy: 0.9111 - val_loss: 0.4101 - val_accuracy: 0.9333\n",
      "Epoch 177/200\n",
      "90/90 [==============================] - 0s 533us/sample - loss: 0.4051 - accuracy: 0.9111 - val_loss: 0.4080 - val_accuracy: 0.9333\n",
      "Epoch 178/200\n",
      "90/90 [==============================] - 0s 522us/sample - loss: 0.4039 - accuracy: 0.9111 - val_loss: 0.4062 - val_accuracy: 0.9333\n",
      "Epoch 179/200\n",
      "90/90 [==============================] - 0s 578us/sample - loss: 0.4024 - accuracy: 0.9111 - val_loss: 0.4053 - val_accuracy: 0.9333\n",
      "Epoch 180/200\n",
      "90/90 [==============================] - 0s 533us/sample - loss: 0.4014 - accuracy: 0.9111 - val_loss: 0.4041 - val_accuracy: 0.9333\n",
      "Epoch 181/200\n",
      "90/90 [==============================] - 0s 544us/sample - loss: 0.3999 - accuracy: 0.9222 - val_loss: 0.4031 - val_accuracy: 0.9333\n",
      "Epoch 182/200\n",
      "90/90 [==============================] - 0s 533us/sample - loss: 0.3990 - accuracy: 0.9222 - val_loss: 0.4021 - val_accuracy: 0.9333\n",
      "Epoch 183/200\n",
      "90/90 [==============================] - 0s 544us/sample - loss: 0.3975 - accuracy: 0.9222 - val_loss: 0.4004 - val_accuracy: 0.9333\n",
      "Epoch 184/200\n",
      "90/90 [==============================] - 0s 556us/sample - loss: 0.3963 - accuracy: 0.9222 - val_loss: 0.3986 - val_accuracy: 0.9333\n",
      "Epoch 185/200\n",
      "90/90 [==============================] - 0s 533us/sample - loss: 0.3950 - accuracy: 0.9222 - val_loss: 0.3969 - val_accuracy: 0.9333\n",
      "Epoch 186/200\n",
      "90/90 [==============================] - 0s 522us/sample - loss: 0.3939 - accuracy: 0.9111 - val_loss: 0.3953 - val_accuracy: 0.9333\n",
      "Epoch 187/200\n",
      "90/90 [==============================] - 0s 556us/sample - loss: 0.3927 - accuracy: 0.9111 - val_loss: 0.3937 - val_accuracy: 0.9333\n",
      "Epoch 188/200\n",
      "90/90 [==============================] - 0s 533us/sample - loss: 0.3915 - accuracy: 0.9111 - val_loss: 0.3921 - val_accuracy: 0.9333\n",
      "Epoch 189/200\n",
      "90/90 [==============================] - 0s 756us/sample - loss: 0.3903 - accuracy: 0.9111 - val_loss: 0.3903 - val_accuracy: 0.9667\n",
      "Epoch 190/200\n",
      "90/90 [==============================] - 0s 667us/sample - loss: 0.3892 - accuracy: 0.9111 - val_loss: 0.3883 - val_accuracy: 0.9667\n",
      "Epoch 191/200\n",
      "90/90 [==============================] - 0s 522us/sample - loss: 0.3880 - accuracy: 0.9111 - val_loss: 0.3868 - val_accuracy: 0.9667\n",
      "Epoch 192/200\n",
      "90/90 [==============================] - 0s 556us/sample - loss: 0.3869 - accuracy: 0.9111 - val_loss: 0.3852 - val_accuracy: 0.9667\n",
      "Epoch 193/200\n",
      "90/90 [==============================] - 0s 533us/sample - loss: 0.3856 - accuracy: 0.9111 - val_loss: 0.3842 - val_accuracy: 0.9667\n",
      "Epoch 194/200\n",
      "90/90 [==============================] - 0s 567us/sample - loss: 0.3845 - accuracy: 0.9111 - val_loss: 0.3830 - val_accuracy: 0.9667\n",
      "Epoch 195/200\n",
      "90/90 [==============================] - 0s 600us/sample - loss: 0.3834 - accuracy: 0.9111 - val_loss: 0.3817 - val_accuracy: 0.9667\n",
      "Epoch 196/200\n",
      "90/90 [==============================] - 0s 556us/sample - loss: 0.3823 - accuracy: 0.9111 - val_loss: 0.3808 - val_accuracy: 0.9667\n",
      "Epoch 197/200\n",
      "90/90 [==============================] - 0s 844us/sample - loss: 0.3811 - accuracy: 0.9111 - val_loss: 0.3794 - val_accuracy: 0.9667\n",
      "Epoch 198/200\n",
      "90/90 [==============================] - 0s 1ms/sample - loss: 0.3801 - accuracy: 0.9111 - val_loss: 0.3782 - val_accuracy: 0.9667\n",
      "Epoch 199/200\n",
      "90/90 [==============================] - 0s 944us/sample - loss: 0.3789 - accuracy: 0.9111 - val_loss: 0.3769 - val_accuracy: 0.9667\n",
      "Epoch 200/200\n",
      "90/90 [==============================] - 0s 678us/sample - loss: 0.3779 - accuracy: 0.9111 - val_loss: 0.3758 - val_accuracy: 0.9667\n"
     ]
    }
   ],
   "source": [
    "network.compile(optimizer='adam', loss='categorical_crossentropy', metrics=['accuracy'])\n",
    "history = network.fit(x_train, encoded_y_train, validation_data=(val_x, encoded_val_y), epochs=200)"
   ]
  },
  {
   "cell_type": "markdown",
   "metadata": {
    "colab_type": "text",
    "id": "V7D9NnwvTvB6"
   },
   "source": [
    "### **STEP 5 : Evaluation**"
   ]
  },
  {
   "cell_type": "code",
   "execution_count": 12,
   "metadata": {
    "colab": {
     "base_uri": "https://localhost:8080/",
     "height": 71
    },
    "colab_type": "code",
    "id": "XuwDCaIH3Cyx",
    "outputId": "28578e90-afed-48a4-9367-c9b98629b153"
   },
   "outputs": [
    {
     "name": "stdout",
     "output_type": "stream",
     "text": [
      "\r",
      "30/1 [====================================================================================================================================================================================================================================================================================================================================================================================================================================================================================================================================================================================================================================================================================================================================================================================================================================================================================================================================] - 0s 267us/sample - loss: 0.2799 - accuracy: 0.9333\n"
     ]
    },
    {
     "data": {
      "text/plain": [
       "[0.2799120545387268, 0.93333334]"
      ]
     },
     "execution_count": 12,
     "metadata": {},
     "output_type": "execute_result"
    }
   ],
   "source": [
    "results = network.evaluate(x_test, encoded_y_test)\n",
    "results"
   ]
  },
  {
   "cell_type": "code",
   "execution_count": 13,
   "metadata": {
    "colab": {
     "base_uri": "https://localhost:8080/",
     "height": 34
    },
    "colab_type": "code",
    "id": "xwZXKIe73FHs",
    "outputId": "833333be-8c46-415e-86b9-e657e7ab2730"
   },
   "outputs": [
    {
     "data": {
      "text/plain": [
       "dict_keys(['loss', 'accuracy', 'val_loss', 'val_accuracy'])"
      ]
     },
     "execution_count": 13,
     "metadata": {},
     "output_type": "execute_result"
    }
   ],
   "source": [
    "history_dic = history.history\n",
    "history_dic.keys()"
   ]
  },
  {
   "cell_type": "code",
   "execution_count": 14,
   "metadata": {
    "colab": {
     "base_uri": "https://localhost:8080/",
     "height": 241
    },
    "colab_type": "code",
    "id": "KSPgR1BL3Hbc",
    "outputId": "4fc072b0-70b0-4085-a906-21394b8d45b3"
   },
   "outputs": [
    {
     "data": {
      "image/png": "[encoded data removed]",
      "text/plain": [
       "<Figure size 720x216 with 1 Axes>"
      ]
     },
     "metadata": {
      "needs_background": "light"
     },
     "output_type": "display_data"
    }
   ],
   "source": [
    "plt.figure(figsize=(10,3))\n",
    "plt.plot(history.history['accuracy'] , \"b-\")\n",
    "plt.plot(history.history['val_accuracy'], \"r\")\n",
    "plt.title('Model Accuracy')\n",
    "plt.ylabel('Accuracy')\n",
    "plt.xlabel('Epoch')\n",
    "plt.legend(['Train', 'Validation'], loc='upper left')\n",
    "plt.show()"
   ]
  },
  {
   "cell_type": "markdown",
   "metadata": {
    "colab_type": "text",
    "id": "cEc_TD8-4bpA"
   },
   "source": [
    "### **STEP 6 : Prediction**"
   ]
  },
  {
   "cell_type": "code",
   "execution_count": 15,
   "metadata": {
    "colab": {
     "base_uri": "https://localhost:8080/",
     "height": 34
    },
    "colab_type": "code",
    "id": "y5BfMy2d4S5_",
    "outputId": "64f2de4f-1a70-4061-881f-4d69335143d7"
   },
   "outputs": [
    {
     "data": {
      "text/plain": [
       "array([2], dtype=int64)"
      ]
     },
     "execution_count": 15,
     "metadata": {},
     "output_type": "execute_result"
    }
   ],
   "source": [
    "i = 5\n",
    "prediction =  network.predict_classes(x_test[i].reshape(1,4))\n",
    "prediction"
   ]
  },
  {
   "cell_type": "code",
   "execution_count": 16,
   "metadata": {
    "colab": {
     "base_uri": "https://localhost:8080/",
     "height": 51
    },
    "colab_type": "code",
    "id": "C_hOYrG84guN",
    "outputId": "5dbd64d4-b9f4-439d-d85c-9c0931e3544c"
   },
   "outputs": [
    {
     "name": "stdout",
     "output_type": "stream",
     "text": [
      "The data is : [6.  2.2 4.  1. ] and I have predicted that it's a [2] i.e Iris-virginica\n",
      "Actual data : [6.  2.2 4.  1. ] actual label : Versicolor\n"
     ]
    }
   ],
   "source": [
    "if prediction == 0:\n",
    "    print(\"The data is :\", x_test[i], \"and I have predicted that it's a\", prediction, \"i.e Iris-setosa\")\n",
    "    print(\"Actual data :\", x_test[i], \"actual label :\", y_test[i])\n",
    "elif prediction == 1:\n",
    "    print(\"The data is :\", x_test[i], \"and I have predicted that it's a\", prediction, \"i.e Iris-versicolor\")\n",
    "    print(\"Actual data :\", x_test[i], \"actual label :\", y_test[i])\n",
    "\n",
    "else:\n",
    "    print(\"The data is :\", x_test[i], \"and I have predicted that it's a\", prediction, \"i.e Iris-virginica\")\n",
    "    print(\"Actual data :\", x_test[i], \"actual label :\", y_test[i])"
   ]
  },
  {
   "cell_type": "markdown",
   "metadata": {
    "colab_type": "text",
    "id": "hdMfYGKO3I-Q"
   },
   "source": [
    "# **STEP 7 : Training New Model**"
   ]
  },
  {
   "cell_type": "code",
   "execution_count": 17,
   "metadata": {
    "colab": {
     "base_uri": "https://localhost:8080/",
     "height": 1000
    },
    "colab_type": "code",
    "id": "7d-_LoE9TyK9",
    "outputId": "82408836-b550-4838-bf92-f67dba5e6190"
   },
   "outputs": [
    {
     "name": "stdout",
     "output_type": "stream",
     "text": [
      "Train on 90 samples, validate on 30 samples\n",
      "Epoch 1/50\n",
      "90/90 [==============================] - 2s 25ms/sample - loss: 1.5837 - accuracy: 0.3667 - val_loss: 1.6747 - val_accuracy: 0.2667\n",
      "Epoch 2/50\n",
      "90/90 [==============================] - 0s 1ms/sample - loss: 1.4949 - accuracy: 0.3667 - val_loss: 1.5835 - val_accuracy: 0.2667\n",
      "Epoch 3/50\n",
      "90/90 [==============================] - 0s 1ms/sample - loss: 1.4217 - accuracy: 0.3667 - val_loss: 1.4999 - val_accuracy: 0.2667\n",
      "Epoch 4/50\n",
      "90/90 [==============================] - 0s 1ms/sample - loss: 1.3512 - accuracy: 0.3667 - val_loss: 1.4255 - val_accuracy: 0.2667\n",
      "Epoch 5/50\n",
      "90/90 [==============================] - 0s 1ms/sample - loss: 1.2895 - accuracy: 0.3667 - val_loss: 1.3606 - val_accuracy: 0.2667\n",
      "Epoch 6/50\n",
      "90/90 [==============================] - 0s 1ms/sample - loss: 1.2407 - accuracy: 0.3667 - val_loss: 1.3051 - val_accuracy: 0.2667\n",
      "Epoch 7/50\n",
      "90/90 [==============================] - 0s 1ms/sample - loss: 1.1967 - accuracy: 0.3667 - val_loss: 1.2582 - val_accuracy: 0.2667\n",
      "Epoch 8/50\n",
      "90/90 [==============================] - 0s 1ms/sample - loss: 1.1668 - accuracy: 0.3667 - val_loss: 1.2183 - val_accuracy: 0.2667\n",
      "Epoch 9/50\n",
      "90/90 [==============================] - 0s 1ms/sample - loss: 1.1373 - accuracy: 0.3667 - val_loss: 1.1851 - val_accuracy: 0.2667\n",
      "Epoch 10/50\n",
      "90/90 [==============================] - 0s 1ms/sample - loss: 1.1130 - accuracy: 0.3667 - val_loss: 1.1579 - val_accuracy: 0.2667\n",
      "Epoch 11/50\n",
      "90/90 [==============================] - 0s 1ms/sample - loss: 1.0949 - accuracy: 0.3667 - val_loss: 1.1346 - val_accuracy: 0.2667\n",
      "Epoch 12/50\n",
      "90/90 [==============================] - 0s 1ms/sample - loss: 1.0815 - accuracy: 0.3667 - val_loss: 1.1143 - val_accuracy: 0.2667\n",
      "Epoch 13/50\n",
      "90/90 [==============================] - 0s 1ms/sample - loss: 1.0684 - accuracy: 0.3667 - val_loss: 1.0969 - val_accuracy: 0.2667\n",
      "Epoch 14/50\n",
      "90/90 [==============================] - 0s 1ms/sample - loss: 1.0580 - accuracy: 0.3667 - val_loss: 1.0810 - val_accuracy: 0.2667\n",
      "Epoch 15/50\n",
      "90/90 [==============================] - 0s 978us/sample - loss: 1.0471 - accuracy: 0.3667 - val_loss: 1.0671 - val_accuracy: 0.2667\n",
      "Epoch 16/50\n",
      "90/90 [==============================] - 0s 978us/sample - loss: 1.0389 - accuracy: 0.3667 - val_loss: 1.0534 - val_accuracy: 0.2667\n",
      "Epoch 17/50\n",
      "90/90 [==============================] - 0s 856us/sample - loss: 1.0299 - accuracy: 0.3667 - val_loss: 1.0410 - val_accuracy: 0.2667\n",
      "Epoch 18/50\n",
      "90/90 [==============================] - 0s 989us/sample - loss: 1.0202 - accuracy: 0.3667 - val_loss: 1.0307 - val_accuracy: 0.2667\n",
      "Epoch 19/50\n",
      "90/90 [==============================] - 0s 989us/sample - loss: 1.0111 - accuracy: 0.3667 - val_loss: 1.0214 - val_accuracy: 0.2667\n",
      "Epoch 20/50\n",
      "90/90 [==============================] - 0s 989us/sample - loss: 1.0026 - accuracy: 0.3667 - val_loss: 1.0121 - val_accuracy: 0.2667\n",
      "Epoch 21/50\n",
      "90/90 [==============================] - 0s 889us/sample - loss: 0.9944 - accuracy: 0.3667 - val_loss: 1.0037 - val_accuracy: 0.2667\n",
      "Epoch 22/50\n",
      "90/90 [==============================] - 0s 833us/sample - loss: 0.9866 - accuracy: 0.3667 - val_loss: 0.9958 - val_accuracy: 0.2667\n",
      "Epoch 23/50\n",
      "90/90 [==============================] - 0s 1ms/sample - loss: 0.9781 - accuracy: 0.3667 - val_loss: 0.9880 - val_accuracy: 0.2667\n",
      "Epoch 24/50\n",
      "90/90 [==============================] - 0s 833us/sample - loss: 0.9703 - accuracy: 0.3778 - val_loss: 0.9812 - val_accuracy: 0.2667\n",
      "Epoch 25/50\n",
      "90/90 [==============================] - 0s 844us/sample - loss: 0.9622 - accuracy: 0.3778 - val_loss: 0.9743 - val_accuracy: 0.2667\n",
      "Epoch 26/50\n",
      "90/90 [==============================] - 0s 978us/sample - loss: 0.9548 - accuracy: 0.4111 - val_loss: 0.9663 - val_accuracy: 0.3000\n",
      "Epoch 27/50\n",
      "90/90 [==============================] - 0s 1ms/sample - loss: 0.9467 - accuracy: 0.4444 - val_loss: 0.9603 - val_accuracy: 0.4000\n",
      "Epoch 28/50\n",
      "90/90 [==============================] - 0s 878us/sample - loss: 0.9387 - accuracy: 0.5222 - val_loss: 0.9540 - val_accuracy: 0.4667\n",
      "Epoch 29/50\n",
      "90/90 [==============================] - 0s 1ms/sample - loss: 0.9311 - accuracy: 0.5667 - val_loss: 0.9474 - val_accuracy: 0.5333\n",
      "Epoch 30/50\n",
      "90/90 [==============================] - 0s 1ms/sample - loss: 0.9238 - accuracy: 0.5778 - val_loss: 0.9412 - val_accuracy: 0.5333\n",
      "Epoch 31/50\n",
      "90/90 [==============================] - 0s 1ms/sample - loss: 0.9158 - accuracy: 0.6000 - val_loss: 0.9347 - val_accuracy: 0.5333\n",
      "Epoch 32/50\n",
      "90/90 [==============================] - 0s 2ms/sample - loss: 0.9083 - accuracy: 0.6222 - val_loss: 0.9281 - val_accuracy: 0.5333\n",
      "Epoch 33/50\n",
      "90/90 [==============================] - 0s 1ms/sample - loss: 0.9008 - accuracy: 0.6222 - val_loss: 0.9213 - val_accuracy: 0.5333\n",
      "Epoch 34/50\n",
      "90/90 [==============================] - 0s 1ms/sample - loss: 0.8934 - accuracy: 0.6333 - val_loss: 0.9141 - val_accuracy: 0.5333\n",
      "Epoch 35/50\n",
      "90/90 [==============================] - 0s 956us/sample - loss: 0.8864 - accuracy: 0.6333 - val_loss: 0.9075 - val_accuracy: 0.5333\n",
      "Epoch 36/50\n",
      "90/90 [==============================] - 0s 944us/sample - loss: 0.8785 - accuracy: 0.6556 - val_loss: 0.9009 - val_accuracy: 0.5333\n",
      "Epoch 37/50\n",
      "90/90 [==============================] - 0s 1ms/sample - loss: 0.8714 - accuracy: 0.6556 - val_loss: 0.8945 - val_accuracy: 0.5333\n",
      "Epoch 38/50\n",
      "90/90 [==============================] - 0s 2ms/sample - loss: 0.8640 - accuracy: 0.6556 - val_loss: 0.8874 - val_accuracy: 0.5333\n",
      "Epoch 39/50\n",
      "90/90 [==============================] - 0s 1ms/sample - loss: 0.8564 - accuracy: 0.6556 - val_loss: 0.8806 - val_accuracy: 0.5333\n",
      "Epoch 40/50\n",
      "90/90 [==============================] - 0s 689us/sample - loss: 0.8493 - accuracy: 0.6556 - val_loss: 0.8738 - val_accuracy: 0.5333\n",
      "Epoch 41/50\n",
      "90/90 [==============================] - 0s 711us/sample - loss: 0.8423 - accuracy: 0.6556 - val_loss: 0.8670 - val_accuracy: 0.5333\n",
      "Epoch 42/50\n",
      "90/90 [==============================] - 0s 656us/sample - loss: 0.8349 - accuracy: 0.6556 - val_loss: 0.8603 - val_accuracy: 0.5333\n",
      "Epoch 43/50\n",
      "90/90 [==============================] - 0s 689us/sample - loss: 0.8280 - accuracy: 0.6556 - val_loss: 0.8526 - val_accuracy: 0.5667\n",
      "Epoch 44/50\n",
      "90/90 [==============================] - 0s 689us/sample - loss: 0.8204 - accuracy: 0.6556 - val_loss: 0.8455 - val_accuracy: 0.6000\n",
      "Epoch 45/50\n",
      "90/90 [==============================] - 0s 722us/sample - loss: 0.8133 - accuracy: 0.6556 - val_loss: 0.8385 - val_accuracy: 0.6333\n",
      "Epoch 46/50\n",
      "90/90 [==============================] - 0s 711us/sample - loss: 0.8064 - accuracy: 0.6556 - val_loss: 0.8320 - val_accuracy: 0.6333\n",
      "Epoch 47/50\n",
      "90/90 [==============================] - 0s 1ms/sample - loss: 0.7995 - accuracy: 0.6556 - val_loss: 0.8241 - val_accuracy: 0.6333\n",
      "Epoch 48/50\n",
      "90/90 [==============================] - 0s 1ms/sample - loss: 0.7930 - accuracy: 0.6667 - val_loss: 0.8176 - val_accuracy: 0.6667\n",
      "Epoch 49/50\n",
      "90/90 [==============================] - 0s 1ms/sample - loss: 0.7853 - accuracy: 0.6667 - val_loss: 0.8111 - val_accuracy: 0.6667\n",
      "Epoch 50/50\n",
      "90/90 [==============================] - 0s 689us/sample - loss: 0.7783 - accuracy: 0.6778 - val_loss: 0.8040 - val_accuracy: 0.7333\n"
     ]
    }
   ],
   "source": [
    "network2 = models.Sequential()\n",
    "network2.add(layers.Dense(10, activation='relu', input_shape=(4,)))\n",
    "network2.add(layers.Dense(8, activation='relu'))\n",
    "network2.add(layers.Dense(3, activation='softmax'))\n",
    "\n",
    "network2.compile(optimizer='adam', loss='categorical_crossentropy', metrics=['accuracy'])\n",
    "\n",
    "history = network2.fit(x_train, encoded_y_train, validation_data=(val_x, encoded_val_y), epochs=50)"
   ]
  },
  {
   "cell_type": "code",
   "execution_count": 18,
   "metadata": {
    "colab": {
     "base_uri": "https://localhost:8080/",
     "height": 241
    },
    "colab_type": "code",
    "id": "P2gkwK1D1m53",
    "outputId": "970a315f-6002-46ca-ba37-328dd3d1729e"
   },
   "outputs": [
    {
     "data": {
      "image/png": "[encoded data removed]",
      "text/plain": [
       "<Figure size 720x216 with 1 Axes>"
      ]
     },
     "metadata": {
      "needs_background": "light"
     },
     "output_type": "display_data"
    }
   ],
   "source": [
    "plt.figure(figsize=(10,3))\n",
    "plt.plot(history.history['accuracy'] , \"b-\")\n",
    "plt.plot(history.history['val_accuracy'], \"r\")\n",
    "plt.title('Model Accuracy')\n",
    "plt.ylabel('Accuracy')\n",
    "plt.xlabel('Epoch')\n",
    "plt.legend(['Train', 'Validation'], loc='upper left')\n",
    "plt.show()"
   ]
  },
  {
   "cell_type": "code",
   "execution_count": 0,
   "metadata": {
    "colab": {},
    "colab_type": "code",
    "id": "-grHII8164L5"
   },
   "outputs": [],
   "source": []
  }
 ],
 "metadata": {
  "colab": {
   "name": "IRIS Model Training.ipynb",
   "provenance": []
  },
  "kernelspec": {
   "display_name": "Python 3",
   "language": "python",
   "name": "python3"
  },
  "language_info": {
   "codemirror_mode": {
    "name": "ipython",
    "version": 3
   },
   "file_extension": ".py",
   "mimetype": "text/x-python",
   "name": "python",
   "nbconvert_exporter": "python",
   "pygments_lexer": "ipython3",
   "version": "3.7.3"
  }
 },
 "nbformat": 4,
 "nbformat_minor": 1
}
