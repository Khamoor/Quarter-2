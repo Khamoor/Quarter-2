{
 "cells": [
  {
   "cell_type": "code",
   "execution_count": 111,
   "metadata": {},
   "outputs": [],
   "source": [
    "from PIL import Image\n",
    "import numpy as np\n",
    "import matplotlib.pylab as plt\n",
    "import os\n",
    "\n",
    "for f in os.listdir('.'):\n",
    "    if f.endswith('.jpg'):\n",
    "        i = Image.open(f)\n",
    "        fn, fext = os.path.splitext(f)\n",
    "        \n",
    "        i_r = i.resize((200, 200))\n",
    "        i_r.save('image_200/{}_200{}'.format(fn, fext))\n"
   ]
  },
  {
   "cell_type": "code",
   "execution_count": 144,
   "metadata": {},
   "outputs": [],
   "source": [
    "import numpy as np\n",
    "import matplotlib.pylab as plt\n",
    "import os\n",
    "\n",
    "mainArray = np.zeros([20,200,200,3])\n",
    "mainArray.shape\n",
    "mainArray[0]\n",
    "i = 0\n",
    "for f in os.listdir('.'):\n",
    "    if f.endswith('.jpg'):\n",
    "        im = plt.imread(f)\n",
    "        mainArray[i] = im\n",
    "        i += 1\n",
    "# print(\"ma:\\n\",mainArray)"
   ]
  }
 ],
 "metadata": {
  "kernelspec": {
   "display_name": "Python 3",
   "language": "python",
   "name": "python3"
  },
  "language_info": {
   "codemirror_mode": {
    "name": "ipython",
    "version": 3
   },
   "file_extension": ".py",
   "mimetype": "text/x-python",
   "name": "python",
   "nbconvert_exporter": "python",
   "pygments_lexer": "ipython3",
   "version": "3.7.3"
  }
 },
 "nbformat": 4,
 "nbformat_minor": 2
}
